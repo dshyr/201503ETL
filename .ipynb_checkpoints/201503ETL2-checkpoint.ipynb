{
 "cells": [
  {
   "cell_type": "code",
   "execution_count": 1,
   "metadata": {
    "collapsed": false
   },
   "outputs": [
    {
     "name": "stdout",
     "output_type": "stream",
     "text": [
      "5\n",
      "<type 'int'>\n"
     ]
    }
   ],
   "source": [
    "def addNum(a, b):#Define Function\n",
    "    return a+b #Return function \n",
    "\n",
    "c =  addNum(1,4)\n",
    "print c\n",
    "print type(c)"
   ]
  },
  {
   "cell_type": "code",
   "execution_count": 2,
   "metadata": {
    "collapsed": false
   },
   "outputs": [
    {
     "data": {
      "text/plain": [
       "(set(), {1, 2}, {1, 2})"
      ]
     },
     "execution_count": 2,
     "metadata": {},
     "output_type": "execute_result"
    }
   ],
   "source": [
    "set(), set([1, 2]), set([2, 1]),\n"
   ]
  },
  {
   "cell_type": "code",
   "execution_count": 7,
   "metadata": {
    "collapsed": false
   },
   "outputs": [
    {
     "name": "stdout",
     "output_type": "stream",
     "text": [
      "set([0, 1, 2, 3, 4])\n",
      "set([4, 5, 6, 7, 8, 9])\n",
      "set([0, 1, 2, 3])\n",
      "set([1, 2])\n",
      "set([3, 4])\n",
      "set([1, 2, 3, 4])\n",
      "set([1, 2, 3, 4, 5])\n"
     ]
    }
   ],
   "source": [
    "set((2, 1)), set(range(0,5)) - set(range(4,10)),\\\n",
    "#set([1, 2]) | set([3, 4])\n",
    "print set(range(0,5))\n",
    "print  set(range(4,10))\n",
    "print set(range(0,5)) - set(range(4,10))\n",
    "print set([1,2])\n",
    "print set([3,4])\n",
    "print set([1, 2]) | set([3, 4])\n",
    "print set([1, 2]) | set([3, 4]) | set([2, 5]) \n"
   ]
  },
  {
   "cell_type": "code",
   "execution_count": 10,
   "metadata": {
    "collapsed": false
   },
   "outputs": [
    {
     "name": "stdout",
     "output_type": "stream",
     "text": [
      "x [1]\n",
      "args ()\n"
     ]
    },
    {
     "data": {
      "text/plain": [
       "{1}"
      ]
     },
     "execution_count": 10,
     "metadata": {},
     "output_type": "execute_result"
    }
   ],
   "source": [
    "def myunion(x, *args):\n",
    "    print \"x\", x\n",
    "    print \"args\",args\n",
    "    u = set(x)\n",
    "    for y in args:\n",
    "        print \"y\", y\n",
    "        u = u.union(set(y))\n",
    "    return u\n",
    "\n",
    "myunion([1])\n",
    "\n"
   ]
  },
  {
   "cell_type": "code",
   "execution_count": 11,
   "metadata": {
    "collapsed": false
   },
   "outputs": [
    {
     "name": "stdout",
     "output_type": "stream",
     "text": [
      "x [1]\n",
      "args ([1, 2, 4], [3, 4])\n",
      "y [1, 2, 4]\n",
      "y [3, 4]\n"
     ]
    },
    {
     "data": {
      "text/plain": [
       "{1, 2, 3, 4}"
      ]
     },
     "execution_count": 11,
     "metadata": {},
     "output_type": "execute_result"
    }
   ],
   "source": [
    "myunion([1], [1, 2, 4], [3, 4])"
   ]
  },
  {
   "cell_type": "code",
   "execution_count": 12,
   "metadata": {
    "collapsed": false
   },
   "outputs": [
    {
     "name": "stdout",
     "output_type": "stream",
     "text": [
      "x [1]\n",
      "args ([1, 2, 4], [3, 4], [2, 5])\n",
      "y [1, 2, 4]\n",
      "y [3, 4]\n",
      "y [2, 5]\n"
     ]
    },
    {
     "data": {
      "text/plain": [
       "{1, 2, 3, 4, 5}"
      ]
     },
     "execution_count": 12,
     "metadata": {},
     "output_type": "execute_result"
    }
   ],
   "source": [
    "myunion([1], [1, 2, 4], [3, 4], [2,5])"
   ]
  },
  {
   "cell_type": "code",
   "execution_count": 13,
   "metadata": {
    "collapsed": false
   },
   "outputs": [
    {
     "name": "stdout",
     "output_type": "stream",
     "text": [
      "x ['the']\n",
      "key stop\n",
      "union set(['the', 'stop'])\n",
      "key halt\n",
      "set(['the', 'stop'])\n"
     ]
    }
   ],
   "source": [
    "def my_key_union(x, **kwargs):\n",
    "    print \"x\", x\n",
    "    union = set(x)\n",
    "    for key, value in kwargs.items():\n",
    "        print \"key\", key\n",
    "        if value:\n",
    "            union.add(key)\n",
    "            print \"union\", union\n",
    "    return union\n",
    "\n",
    "print my_key_union(['the'], stop=True, halt=False)"
   ]
  },
  {
   "cell_type": "code",
   "execution_count": 14,
   "metadata": {
    "collapsed": false
   },
   "outputs": [
    {
     "name": "stdout",
     "output_type": "stream",
     "text": [
      "x ['the']\n",
      "key stop\n",
      "union set(['the', 'stop'])\n",
      "key halt\n",
      "union set(['the', 'stop', 'halt'])\n",
      "set(['the', 'stop', 'halt'])\n"
     ]
    }
   ],
   "source": [
    "print my_key_union(['the'], stop=True, halt=True)"
   ]
  },
  {
   "cell_type": "code",
   "execution_count": 15,
   "metadata": {
    "collapsed": false
   },
   "outputs": [
    {
     "name": "stdout",
     "output_type": "stream",
     "text": [
      "The result is 0.000000\n"
     ]
    }
   ],
   "source": [
    "import math, sys # Importing modules.\n",
    "\n",
    "def formatresult(res): # Define function. Remember \":\"\n",
    "    \"\"\"This is the documentation for a function.\"\"\"\n",
    "    return \"The result is %f\" % res # Percentage for formating\n",
    "\n",
    "if len(sys.argv) < 3: # Conditionals should be indended\n",
    "    print(\"Too few input argument\")\n",
    "elif len(sys.argv) > 10: # Not 'elsif' or 'elseif'\n",
    "    print(\"Too many input argument\")\n",
    "else:\n",
    "    res = 0\n",
    "    for n in range(1, len(sys.argv)): \n",
    "        try: res += float(sys.argv[n]) \n",
    "        except: pass # One-liner\n",
    "    print(formatresult(res))"
   ]
  },
  {
   "cell_type": "code",
   "execution_count": 18,
   "metadata": {
    "collapsed": false
   },
   "outputs": [
    {
     "name": "stdout",
     "output_type": "stream",
     "text": [
      "['C:\\\\Python27\\\\lib\\\\site-packages\\\\IPython\\\\kernel\\\\__main__.py', '-f', 'C:\\\\Users\\\\david\\\\.ipython\\\\profile_default\\\\security\\\\kernel-8da9624b-aaf8-4468-a1fc-74b9d57b5d1e.json', '--profile-dir', 'C:\\\\Users\\\\david\\\\.ipython\\\\profile_default']\n",
      "5\n"
     ]
    }
   ],
   "source": [
    "import sys\n",
    "print sys.argv\n",
    "print len(sys.argv)"
   ]
  },
  {
   "cell_type": "code",
   "execution_count": 19,
   "metadata": {
    "collapsed": false
   },
   "outputs": [
    {
     "name": "stdout",
     "output_type": "stream",
     "text": [
      "['C:\\\\Python27\\\\lib\\\\site-packages\\\\IPython\\\\kernel\\\\__main__.py', '-f', 'C:\\\\Users\\\\david\\\\.ipython\\\\profile_default\\\\security\\\\kernel-8da9624b-aaf8-4468-a1fc-74b9d57b5d1e.json', '--profile-dir', 'C:\\\\Users\\\\david\\\\.ipython\\\\profile_default']\n",
      "The result is 0.000000\n"
     ]
    }
   ],
   "source": [
    "#test.py\n",
    "import math, sys # Importing modules.\n",
    "\n",
    "def formatresult(res): # Define function. Remember \":\"\n",
    "    \"\"\"This is the documentation for a function.\"\"\"\n",
    "    return \"The result is %f\" % res # Percentage for formating\n",
    "print sys.argv\n",
    "if len(sys.argv) < 3: # Conditionals should be indended\n",
    "    print(\"Too few input argument\")\n",
    "elif len(sys.argv) > 10: # Not 'elsif' or 'elseif'\n",
    "    print(\"Too many input argument\")\n",
    "else: \n",
    "    res = 0\n",
    "    for n in range(1, len(sys.argv)): \n",
    "        try: res += float(sys.argv[n]) \n",
    "        except: pass # One-liner\n",
    "    print(formatresult(res))"
   ]
  },
  {
   "cell_type": "code",
   "execution_count": 22,
   "metadata": {
    "collapsed": false
   },
   "outputs": [
    {
     "name": "stdout",
     "output_type": "stream",
     "text": [
      "4.0\n"
     ]
    }
   ],
   "source": [
    "import math\n",
    "#dir(math)\n",
    "#help(math)\n",
    "a = math.ceil(3.6)\n",
    "print a \n"
   ]
  },
  {
   "cell_type": "code",
   "execution_count": 27,
   "metadata": {
    "collapsed": false
   },
   "outputs": [
    {
     "name": "stdout",
     "output_type": "stream",
     "text": [
      "<module 'math' (built-in)>\n",
      "<module 'requests' from 'C:\\Python27\\lib\\site-packages\\requests\\__init__.pyc'>\n",
      "['C:\\\\Python27\\\\lib\\\\site-packages\\\\IPython\\\\kernel\\\\__main__.py', '-f', 'C:\\\\Users\\\\david\\\\.ipython\\\\profile_default\\\\security\\\\kernel-8da9624b-aaf8-4468-a1fc-74b9d57b5d1e.json', '--profile-dir', 'C:\\\\Users\\\\david\\\\.ipython\\\\profile_default']\n",
      "5\n",
      "[1, 2, 3, 4]\n"
     ]
    }
   ],
   "source": [
    "import math #Importing Modules\n",
    "print math #Print Content\n",
    "import requests\n",
    "print requests\n",
    "import sys #Importing Modules\n",
    "print(sys.argv) #Print Argument\n",
    "print len(sys.argv)\n",
    "print range(1,len(sys.argv))\n"
   ]
  },
  {
   "cell_type": "code",
   "execution_count": 28,
   "metadata": {
    "collapsed": true
   },
   "outputs": [],
   "source": [
    "def add_contact(name):\n",
    "    contact_list.append(name)\n",
    "    print \"You have %d contacts\" % (len(contact_list))\n",
    "\n",
    "def get_contact():\t\n",
    "    print \"Your Contacts: %s\"%(contact_list)\n"
   ]
  },
  {
   "cell_type": "code",
   "execution_count": 32,
   "metadata": {
    "collapsed": false
   },
   "outputs": [
    {
     "name": "stdout",
     "output_type": "stream",
     "text": [
      "Your Contacts: []\n",
      "You have 1 contacts\n"
     ]
    }
   ],
   "source": [
    "contact_list = [] # create a list\n",
    "get_contact()\n",
    "add_contact(\"David\")"
   ]
  },
  {
   "cell_type": "code",
   "execution_count": 33,
   "metadata": {
    "collapsed": false
   },
   "outputs": [
    {
     "name": "stdout",
     "output_type": "stream",
     "text": [
      "Your Contacts: ['David']\n"
     ]
    }
   ],
   "source": [
    "get_contact()"
   ]
  },
  {
   "cell_type": "code",
   "execution_count": 34,
   "metadata": {
    "collapsed": false
   },
   "outputs": [
    {
     "name": "stdout",
     "output_type": "stream",
     "text": [
      "Add Contact: \"may\"\n",
      "You have 1 contacts\n",
      "Add Contact: \"linda\"\n",
      "You have 2 contacts\n",
      "Add Contact: \"Done\"\n",
      "Your Contacts: ['may', 'linda']\n"
     ]
    }
   ],
   "source": [
    "contact_list = [] # list() []\n",
    "\n",
    "def main():    \n",
    "    while True:\n",
    "        contact = input(\"Add Contact: \")\n",
    "        if contact == 'Done':\n",
    "   \t     break\n",
    "        else:\n",
    "   \t     add_contact(contact)\n",
    "    get_contact()\n",
    "\n",
    "if __name__ == \"__main__\":\n",
    "    main()\n",
    "\n"
   ]
  },
  {
   "cell_type": "code",
   "execution_count": 36,
   "metadata": {
    "collapsed": false
   },
   "outputs": [
    {
     "name": "stdout",
     "output_type": "stream",
     "text": [
      "{'a': 'aaa'}\n",
      "aaa\n"
     ]
    }
   ],
   "source": [
    "dic = {\"a\" : \"aaa\"}\n",
    "print dic\n",
    "print dic[\"a\"]\n"
   ]
  },
  {
   "cell_type": "code",
   "execution_count": 37,
   "metadata": {
    "collapsed": false
   },
   "outputs": [
    {
     "name": "stdout",
     "output_type": "stream",
     "text": [
      "{'a': 'aaa', 'b': 'bbb'}\n"
     ]
    }
   ],
   "source": [
    "dic[\"b\"] = \"bbb\"\n",
    "print dic"
   ]
  },
  {
   "cell_type": "code",
   "execution_count": 38,
   "metadata": {
    "collapsed": false
   },
   "outputs": [
    {
     "name": "stdout",
     "output_type": "stream",
     "text": [
      "{'a': 'ccc', 'b': 'bbb'}\n"
     ]
    }
   ],
   "source": [
    "dic[\"a\"] = \"ccc\"\n",
    "print dic"
   ]
  },
  {
   "cell_type": "code",
   "execution_count": 39,
   "metadata": {
    "collapsed": false
   },
   "outputs": [
    {
     "name": "stdout",
     "output_type": "stream",
     "text": [
      "{1: 8, 2: 11, 3: 14, 4: 17, 5: 20, 6: 23, 7: 26, 8: 29, 9: 32, 10: 35, 11: 38, 12: 41, 13: 44, 14: 47, 15: 50, 16: 53, 17: 56, 18: 59, 19: 62, 20: 65, 21: 68, 22: 71, 23: 74, 24: 77, 25: 80, 26: 83, 27: 86, 28: 89, 29: 92, 30: 95, 31: 98, 32: 101, 33: 104, 34: 107, 35: 110, 36: 113, 37: 116, 38: 119, 39: 122, 40: 125, 41: 128, 42: 131, 43: 134, 44: 137, 45: 140, 46: 143, 47: 146, 48: 149, 49: 152, 50: 155, 51: 158, 52: 161, 53: 164, 54: 167, 55: 170, 56: 173, 57: 176, 58: 179, 59: 182, 60: 185, 61: 188, 62: 191, 63: 194, 64: 197, 65: 200, 66: 203, 67: 206, 68: 209, 69: 212, 70: 215, 71: 218, 72: 221, 73: 224, 74: 227, 75: 230, 76: 233, 77: 236, 78: 239, 79: 242, 80: 245, 81: 248, 82: 251, 83: 254, 84: 257, 85: 260, 86: 263, 87: 266, 88: 269, 89: 272, 90: 275, 91: 278, 92: 281, 93: 284, 94: 287, 95: 290, 96: 293, 97: 296, 98: 299, 99: 302}\n"
     ]
    }
   ],
   "source": [
    "def fun(x):\n",
    "    return 3*x + 5\n",
    "dic ={}\n",
    "for i in range(1,100):\n",
    "    dic[i] = fun(i)\n",
    "print dic"
   ]
  },
  {
   "cell_type": "code",
   "execution_count": 40,
   "metadata": {
    "collapsed": false
   },
   "outputs": [
    {
     "name": "stdout",
     "output_type": "stream",
     "text": [
      "209\n"
     ]
    }
   ],
   "source": [
    "print dic[68]"
   ]
  },
  {
   "cell_type": "code",
   "execution_count": 41,
   "metadata": {
    "collapsed": false
   },
   "outputs": [
    {
     "name": "stdout",
     "output_type": "stream",
     "text": [
      "{'a': 100, 'c': 0.98, 'b': 'yes'}\n"
     ]
    }
   ],
   "source": [
    "dic = {'a':100, 'b':\"yes\", 'c':0.98} \n",
    "print dic \n"
   ]
  },
  {
   "cell_type": "code",
   "execution_count": 42,
   "metadata": {
    "collapsed": false
   },
   "outputs": [
    {
     "name": "stdout",
     "output_type": "stream",
     "text": [
      "['a', 'c', 'b']\n",
      "[100, 0.98, 'yes']\n",
      "100\n"
     ]
    }
   ],
   "source": [
    "#get keys in dictionary \n",
    "print dic.keys() \n",
    "\n",
    "#get values in dictionary \n",
    "print dic.values() \n",
    "\n",
    "#get value of given key \n",
    "print dic['a'] \n"
   ]
  },
  {
   "cell_type": "code",
   "execution_count": 43,
   "metadata": {
    "collapsed": false
   },
   "outputs": [
    {
     "name": "stdout",
     "output_type": "stream",
     "text": [
      "100\n"
     ]
    }
   ],
   "source": [
    "print dic.get('a') # == print dic['a'] "
   ]
  },
  {
   "cell_type": "code",
   "execution_count": 46,
   "metadata": {
    "collapsed": false
   },
   "outputs": [
    {
     "name": "stdout",
     "output_type": "stream",
     "text": [
      "{'a': 100, 'x': 'xman', 'c': 0.98, 'b': 'yes', 'd': 'new'}\n",
      "{'a': 100, 'x': 'xman', 'c': 0.98, 'b': 'yes', 'd': 'new'}\n",
      "{'a': 100, 'c': 0.98, 'b': 'yes', 'e': 123, 'd': 'new', 'g': 'hello', 'f': 567, 'x': 'xman'}\n"
     ]
    }
   ],
   "source": [
    "#add entry into dictionary \n",
    "dic['d'] = 'new' \n",
    "print dic \n",
    "\n",
    "dic['x'] = 'xman'\n",
    "print dic\n",
    "#add entry into dictionary \n",
    "dic.update({'e':123, 'f':567, 'g':\"hello\"}) \n",
    "print dic \n"
   ]
  },
  {
   "cell_type": "code",
   "execution_count": 47,
   "metadata": {
    "collapsed": false
   },
   "outputs": [
    {
     "name": "stdout",
     "output_type": "stream",
     "text": [
      "xman\n"
     ]
    }
   ],
   "source": [
    "print dic['x']"
   ]
  },
  {
   "cell_type": "code",
   "execution_count": 48,
   "metadata": {
    "collapsed": false
   },
   "outputs": [
    {
     "name": "stdout",
     "output_type": "stream",
     "text": [
      "a 100\n",
      "c 0.98\n",
      "b yes\n",
      "e 123\n",
      "d new\n",
      "g hello\n",
      "f 567\n",
      "x xman\n"
     ]
    }
   ],
   "source": [
    "for qoo in dic: \n",
    "    print qoo, dic[qoo] # key, value"
   ]
  },
  {
   "cell_type": "code",
   "execution_count": 56,
   "metadata": {
    "collapsed": false
   },
   "outputs": [
    {
     "name": "stdout",
     "output_type": "stream",
     "text": [
      "1\n",
      "2\n",
      "0\n",
      "0\n"
     ]
    }
   ],
   "source": [
    "'''\n",
    "case(x)\n",
    "    when 'a': return 1,\n",
    "    when 'b': return 2\n",
    "    defult:   return 0\n",
    "    \n",
    "if x =='a':\n",
    "    return 1\n",
    "elif x =='b':\n",
    "    return 2\n",
    "else:\n",
    "    return 0\n",
    "'''\n",
    "def func(x):\n",
    "    return {\n",
    "        'a': 1,\n",
    "        'b': 2,\n",
    "        }.get(x, 0) \n",
    "print func('a')\n",
    "print func('b')\n",
    "print func('c')\n",
    "print func('qooo')\n"
   ]
  },
  {
   "cell_type": "code",
   "execution_count": 50,
   "metadata": {
    "collapsed": false
   },
   "outputs": [
    {
     "name": "stdout",
     "output_type": "stream",
     "text": [
      "1\n",
      "2\n"
     ]
    }
   ],
   "source": [
    "qoo = {'a':1, 'b':2}\n",
    "print qoo['a']\n",
    "print qoo['b']"
   ]
  },
  {
   "cell_type": "code",
   "execution_count": 60,
   "metadata": {
    "collapsed": false
   },
   "outputs": [
    {
     "name": "stdout",
     "output_type": "stream",
     "text": [
      "1\n",
      "2\n",
      "ccc\n",
      "ddd\n"
     ]
    }
   ],
   "source": [
    "qoo = {'a':1, 'b':2, 'c':'ccc'}\n",
    "print qoo['a']\n",
    "print qoo['b']\n",
    "print qoo.get('c', 'zzz')\n",
    "print qoo.get('d', 'ddd')"
   ]
  },
  {
   "cell_type": "code",
   "execution_count": 54,
   "metadata": {
    "collapsed": false
   },
   "outputs": [
    {
     "name": "stdout",
     "output_type": "stream",
     "text": [
      "Help on dict object:\n",
      "\n",
      "class dict(object)\n",
      " |  dict() -> new empty dictionary\n",
      " |  dict(mapping) -> new dictionary initialized from a mapping object's\n",
      " |      (key, value) pairs\n",
      " |  dict(iterable) -> new dictionary initialized as if via:\n",
      " |      d = {}\n",
      " |      for k, v in iterable:\n",
      " |          d[k] = v\n",
      " |  dict(**kwargs) -> new dictionary initialized with the name=value pairs\n",
      " |      in the keyword argument list.  For example:  dict(one=1, two=2)\n",
      " |  \n",
      " |  Methods defined here:\n",
      " |  \n",
      " |  __cmp__(...)\n",
      " |      x.__cmp__(y) <==> cmp(x,y)\n",
      " |  \n",
      " |  __contains__(...)\n",
      " |      D.__contains__(k) -> True if D has a key k, else False\n",
      " |  \n",
      " |  __delitem__(...)\n",
      " |      x.__delitem__(y) <==> del x[y]\n",
      " |  \n",
      " |  __eq__(...)\n",
      " |      x.__eq__(y) <==> x==y\n",
      " |  \n",
      " |  __ge__(...)\n",
      " |      x.__ge__(y) <==> x>=y\n",
      " |  \n",
      " |  __getattribute__(...)\n",
      " |      x.__getattribute__('name') <==> x.name\n",
      " |  \n",
      " |  __getitem__(...)\n",
      " |      x.__getitem__(y) <==> x[y]\n",
      " |  \n",
      " |  __gt__(...)\n",
      " |      x.__gt__(y) <==> x>y\n",
      " |  \n",
      " |  __init__(...)\n",
      " |      x.__init__(...) initializes x; see help(type(x)) for signature\n",
      " |  \n",
      " |  __iter__(...)\n",
      " |      x.__iter__() <==> iter(x)\n",
      " |  \n",
      " |  __le__(...)\n",
      " |      x.__le__(y) <==> x<=y\n",
      " |  \n",
      " |  __len__(...)\n",
      " |      x.__len__() <==> len(x)\n",
      " |  \n",
      " |  __lt__(...)\n",
      " |      x.__lt__(y) <==> x<y\n",
      " |  \n",
      " |  __ne__(...)\n",
      " |      x.__ne__(y) <==> x!=y\n",
      " |  \n",
      " |  __repr__(...)\n",
      " |      x.__repr__() <==> repr(x)\n",
      " |  \n",
      " |  __setitem__(...)\n",
      " |      x.__setitem__(i, y) <==> x[i]=y\n",
      " |  \n",
      " |  __sizeof__(...)\n",
      " |      D.__sizeof__() -> size of D in memory, in bytes\n",
      " |  \n",
      " |  clear(...)\n",
      " |      D.clear() -> None.  Remove all items from D.\n",
      " |  \n",
      " |  copy(...)\n",
      " |      D.copy() -> a shallow copy of D\n",
      " |  \n",
      " |  fromkeys(...)\n",
      " |      dict.fromkeys(S[,v]) -> New dict with keys from S and values equal to v.\n",
      " |      v defaults to None.\n",
      " |  \n",
      " |  get(...)\n",
      " |      D.get(k[,d]) -> D[k] if k in D, else d.  d defaults to None.\n",
      " |  \n",
      " |  has_key(...)\n",
      " |      D.has_key(k) -> True if D has a key k, else False\n",
      " |  \n",
      " |  items(...)\n",
      " |      D.items() -> list of D's (key, value) pairs, as 2-tuples\n",
      " |  \n",
      " |  iteritems(...)\n",
      " |      D.iteritems() -> an iterator over the (key, value) items of D\n",
      " |  \n",
      " |  iterkeys(...)\n",
      " |      D.iterkeys() -> an iterator over the keys of D\n",
      " |  \n",
      " |  itervalues(...)\n",
      " |      D.itervalues() -> an iterator over the values of D\n",
      " |  \n",
      " |  keys(...)\n",
      " |      D.keys() -> list of D's keys\n",
      " |  \n",
      " |  pop(...)\n",
      " |      D.pop(k[,d]) -> v, remove specified key and return the corresponding value.\n",
      " |      If key is not found, d is returned if given, otherwise KeyError is raised\n",
      " |  \n",
      " |  popitem(...)\n",
      " |      D.popitem() -> (k, v), remove and return some (key, value) pair as a\n",
      " |      2-tuple; but raise KeyError if D is empty.\n",
      " |  \n",
      " |  setdefault(...)\n",
      " |      D.setdefault(k[,d]) -> D.get(k,d), also set D[k]=d if k not in D\n",
      " |  \n",
      " |  update(...)\n",
      " |      D.update([E, ]**F) -> None.  Update D from dict/iterable E and F.\n",
      " |      If E present and has a .keys() method, does:     for k in E: D[k] = E[k]\n",
      " |      If E present and lacks .keys() method, does:     for (k, v) in E: D[k] = v\n",
      " |      In either case, this is followed by: for k in F: D[k] = F[k]\n",
      " |  \n",
      " |  values(...)\n",
      " |      D.values() -> list of D's values\n",
      " |  \n",
      " |  viewitems(...)\n",
      " |      D.viewitems() -> a set-like object providing a view on D's items\n",
      " |  \n",
      " |  viewkeys(...)\n",
      " |      D.viewkeys() -> a set-like object providing a view on D's keys\n",
      " |  \n",
      " |  viewvalues(...)\n",
      " |      D.viewvalues() -> an object providing a view on D's values\n",
      " |  \n",
      " |  ----------------------------------------------------------------------\n",
      " |  Data and other attributes defined here:\n",
      " |  \n",
      " |  __hash__ = None\n",
      " |  \n",
      " |  __new__ = <built-in method __new__ of type object>\n",
      " |      T.__new__(S, ...) -> a new object with type S, a subtype of T\n",
      "\n"
     ]
    }
   ],
   "source": [
    "help({})"
   ]
  },
  {
   "cell_type": "code",
   "execution_count": 61,
   "metadata": {
    "collapsed": true
   },
   "outputs": [],
   "source": [
    "dic = {} #dictionary\n",
    "lis = [] # list\n",
    "tup = () #tuple"
   ]
  },
  {
   "cell_type": "code",
   "execution_count": 62,
   "metadata": {
    "collapsed": false
   },
   "outputs": [
    {
     "name": "stdout",
     "output_type": "stream",
     "text": [
      "1\n"
     ]
    }
   ],
   "source": [
    "dic ={'a':1}\n",
    "print dic['a']"
   ]
  },
  {
   "cell_type": "code",
   "execution_count": 63,
   "metadata": {
    "collapsed": false
   },
   "outputs": [
    {
     "name": "stdout",
     "output_type": "stream",
     "text": [
      "def\n"
     ]
    }
   ],
   "source": [
    "lis = ['abc', 'def', 123]\n",
    "print lis[1]"
   ]
  },
  {
   "cell_type": "code",
   "execution_count": 64,
   "metadata": {
    "collapsed": false
   },
   "outputs": [
    {
     "data": {
      "text/plain": [
       "['__add__',\n",
       " '__class__',\n",
       " '__contains__',\n",
       " '__delattr__',\n",
       " '__doc__',\n",
       " '__eq__',\n",
       " '__format__',\n",
       " '__ge__',\n",
       " '__getattribute__',\n",
       " '__getitem__',\n",
       " '__getnewargs__',\n",
       " '__getslice__',\n",
       " '__gt__',\n",
       " '__hash__',\n",
       " '__init__',\n",
       " '__iter__',\n",
       " '__le__',\n",
       " '__len__',\n",
       " '__lt__',\n",
       " '__mul__',\n",
       " '__ne__',\n",
       " '__new__',\n",
       " '__reduce__',\n",
       " '__reduce_ex__',\n",
       " '__repr__',\n",
       " '__rmul__',\n",
       " '__setattr__',\n",
       " '__sizeof__',\n",
       " '__str__',\n",
       " '__subclasshook__',\n",
       " 'count',\n",
       " 'index']"
      ]
     },
     "execution_count": 64,
     "metadata": {},
     "output_type": "execute_result"
    }
   ],
   "source": [
    "dir(tuple)"
   ]
  },
  {
   "cell_type": "code",
   "execution_count": 65,
   "metadata": {
    "collapsed": false
   },
   "outputs": [
    {
     "data": {
      "text/plain": [
       "['__add__',\n",
       " '__class__',\n",
       " '__contains__',\n",
       " '__delattr__',\n",
       " '__delitem__',\n",
       " '__delslice__',\n",
       " '__doc__',\n",
       " '__eq__',\n",
       " '__format__',\n",
       " '__ge__',\n",
       " '__getattribute__',\n",
       " '__getitem__',\n",
       " '__getslice__',\n",
       " '__gt__',\n",
       " '__hash__',\n",
       " '__iadd__',\n",
       " '__imul__',\n",
       " '__init__',\n",
       " '__iter__',\n",
       " '__le__',\n",
       " '__len__',\n",
       " '__lt__',\n",
       " '__mul__',\n",
       " '__ne__',\n",
       " '__new__',\n",
       " '__reduce__',\n",
       " '__reduce_ex__',\n",
       " '__repr__',\n",
       " '__reversed__',\n",
       " '__rmul__',\n",
       " '__setattr__',\n",
       " '__setitem__',\n",
       " '__setslice__',\n",
       " '__sizeof__',\n",
       " '__str__',\n",
       " '__subclasshook__',\n",
       " 'append',\n",
       " 'count',\n",
       " 'extend',\n",
       " 'index',\n",
       " 'insert',\n",
       " 'pop',\n",
       " 'remove',\n",
       " 'reverse',\n",
       " 'sort']"
      ]
     },
     "execution_count": 65,
     "metadata": {},
     "output_type": "execute_result"
    }
   ],
   "source": [
    "dir(list)"
   ]
  },
  {
   "cell_type": "code",
   "execution_count": 66,
   "metadata": {
    "collapsed": false
   },
   "outputs": [
    {
     "name": "stdout",
     "output_type": "stream",
     "text": [
      "1\n",
      "2\n"
     ]
    }
   ],
   "source": [
    "a,b = 1,2\n",
    "print a\n",
    "print b"
   ]
  },
  {
   "cell_type": "code",
   "execution_count": 67,
   "metadata": {
    "collapsed": false
   },
   "outputs": [
    {
     "name": "stdout",
     "output_type": "stream",
     "text": [
      "2\n"
     ]
    }
   ],
   "source": [
    "#int a=0, b=1, c=2\n",
    "a,b,c = 0,1,2\n",
    "print c"
   ]
  },
  {
   "cell_type": "code",
   "execution_count": 68,
   "metadata": {
    "collapsed": false
   },
   "outputs": [
    {
     "data": {
      "text/plain": [
       "2"
      ]
     },
     "execution_count": 68,
     "metadata": {},
     "output_type": "execute_result"
    }
   ],
   "source": [
    "c"
   ]
  },
  {
   "cell_type": "code",
   "execution_count": 69,
   "metadata": {
    "collapsed": false
   },
   "outputs": [
    {
     "ename": "NameError",
     "evalue": "name 'c' is not defined",
     "output_type": "error",
     "traceback": [
      "\u001b[1;31m---------------------------------------------------------------------------\u001b[0m",
      "\u001b[1;31mNameError\u001b[0m                                 Traceback (most recent call last)",
      "\u001b[1;32m<ipython-input-69-064adfa0a7bd>\u001b[0m in \u001b[0;36m<module>\u001b[1;34m()\u001b[0m\n\u001b[0;32m      1\u001b[0m \u001b[1;32mdel\u001b[0m \u001b[0mc\u001b[0m\u001b[1;33m\u001b[0m\u001b[0m\n\u001b[1;32m----> 2\u001b[1;33m \u001b[1;32mprint\u001b[0m \u001b[0mc\u001b[0m\u001b[1;33m\u001b[0m\u001b[0m\n\u001b[0m",
      "\u001b[1;31mNameError\u001b[0m: name 'c' is not defined"
     ]
    }
   ],
   "source": [
    "del c # being deleted\n",
    "print c # Name Error, not found!"
   ]
  },
  {
   "cell_type": "code",
   "execution_count": 70,
   "metadata": {
    "collapsed": false
   },
   "outputs": [
    {
     "name": "stdout",
     "output_type": "stream",
     "text": [
      "2 1\n"
     ]
    }
   ],
   "source": [
    "a, b = 1,2\n",
    "tmp = a # tmp = 1\n",
    "a = b # a = 2 , b = 2\n",
    "b = tmp # b = 1\n",
    "print a,b # a = 2, b = 1"
   ]
  },
  {
   "cell_type": "code",
   "execution_count": 71,
   "metadata": {
    "collapsed": false
   },
   "outputs": [
    {
     "ename": "NameError",
     "evalue": "name 'tmp' is not defined",
     "output_type": "error",
     "traceback": [
      "\u001b[1;31m---------------------------------------------------------------------------\u001b[0m",
      "\u001b[1;31mNameError\u001b[0m                                 Traceback (most recent call last)",
      "\u001b[1;32m<ipython-input-71-3cdb68414393>\u001b[0m in \u001b[0;36m<module>\u001b[1;34m()\u001b[0m\n\u001b[0;32m      1\u001b[0m \u001b[1;32mdel\u001b[0m \u001b[0mtmp\u001b[0m\u001b[1;33m\u001b[0m\u001b[0m\n\u001b[1;32m----> 2\u001b[1;33m \u001b[1;32mprint\u001b[0m \u001b[0mtmp\u001b[0m\u001b[1;33m\u001b[0m\u001b[0m\n\u001b[0m",
      "\u001b[1;31mNameError\u001b[0m: name 'tmp' is not defined"
     ]
    }
   ],
   "source": [
    "del tmp\n",
    "print tmp"
   ]
  },
  {
   "cell_type": "code",
   "execution_count": 72,
   "metadata": {
    "collapsed": false
   },
   "outputs": [
    {
     "name": "stdout",
     "output_type": "stream",
     "text": [
      "2 1\n"
     ]
    }
   ],
   "source": [
    "a, b = 1,2\n",
    "a, b = b,a\n",
    "print a,b"
   ]
  },
  {
   "cell_type": "code",
   "execution_count": 73,
   "metadata": {
    "collapsed": false
   },
   "outputs": [
    {
     "name": "stdout",
     "output_type": "stream",
     "text": [
      "(1, 2, 3)\n"
     ]
    }
   ],
   "source": [
    "def func():\n",
    "     return 1,2,3\n",
    "print func()\n"
   ]
  },
  {
   "cell_type": "code",
   "execution_count": 74,
   "metadata": {
    "collapsed": false
   },
   "outputs": [
    {
     "name": "stdout",
     "output_type": "stream",
     "text": [
      "1\n",
      "2\n",
      "3\n"
     ]
    }
   ],
   "source": [
    "x,y,z = func()\n",
    "print x\n",
    "print y\n",
    "print z"
   ]
  },
  {
   "cell_type": "code",
   "execution_count": 75,
   "metadata": {
    "collapsed": false
   },
   "outputs": [
    {
     "name": "stdout",
     "output_type": "stream",
     "text": [
      "0 a\n",
      "1 b\n",
      "2 c\n"
     ]
    }
   ],
   "source": [
    "li = list('abc')\n",
    "cnt = 0\n",
    "for item in li:\n",
    "    print cnt, item\n",
    "    cnt +=1"
   ]
  },
  {
   "cell_type": "code",
   "execution_count": 77,
   "metadata": {
    "collapsed": false
   },
   "outputs": [
    {
     "name": "stdout",
     "output_type": "stream",
     "text": [
      "0 a\n",
      "1 b\n",
      "2 c\n"
     ]
    }
   ],
   "source": [
    "#enumerate?\n",
    "li = list('abc')\n",
    "for idx, item in enumerate(li):\n",
    "    print idx, item"
   ]
  },
  {
   "cell_type": "code",
   "execution_count": 81,
   "metadata": {
    "collapsed": false
   },
   "outputs": [
    {
     "name": "stdout",
     "output_type": "stream",
     "text": [
      "0 a\n",
      "1 b\n",
      "2 c\n"
     ]
    }
   ],
   "source": [
    "li = list('abc')\n",
    "for item in enumerate(li):\n",
    "    print \"{} {}\".format(*item)"
   ]
  },
  {
   "cell_type": "code",
   "execution_count": 83,
   "metadata": {
    "collapsed": false
   },
   "outputs": [
    {
     "name": "stdout",
     "output_type": "stream",
     "text": [
      "David\n",
      "Taipei\n",
      "anonymous\n",
      "chiayi\n"
     ]
    }
   ],
   "source": [
    "class Person():\n",
    "    count = 0 \n",
    "    def __init__(self, **kwargs):\n",
    "        self.name = kwargs.get('name', 'anonymous')\n",
    "        self.city = kwargs.get('city', 'Taipei')\n",
    "        Person.count += 1\n",
    "    def number_of_persons(self):\n",
    "        return Person.count\n",
    "\n",
    "first = Person(name='David')\n",
    "print first.name # David\n",
    "print first.city # Taipei\n",
    "\n",
    "second = Person(city='chiayi')\n",
    "print second.name # David\n",
    "print second.city # Taipei\n"
   ]
  },
  {
   "cell_type": "code",
   "execution_count": 100,
   "metadata": {
    "collapsed": false
   },
   "outputs": [
    {
     "name": "stdout",
     "output_type": "stream",
     "text": [
      "constructor\n"
     ]
    },
    {
     "data": {
      "text/plain": [
       "['__doc__', '__init__', '__module__', 'integer']"
      ]
     },
     "execution_count": 100,
     "metadata": {},
     "output_type": "execute_result"
    }
   ],
   "source": [
    "class MyInteger():\n",
    "    def __init__(self, integer):\n",
    "        print \"constructor\"\n",
    "        self.integer = integer\n",
    "    def __add__(self, integer): # Overloaded '+' operator\n",
    "        if self.integer == 2 and integer == 2:\n",
    "            return 5\n",
    "        else:\n",
    "            return self.integer + integer\n",
    "\n",
    "a = MyInteger(3)\n",
    "#print a+str(5)\n",
    "#print a.integer\n",
    "\n",
    "#a = MyInteger(2)\n",
    "#print a+2\n",
    "#a = 3\n",
    "dir(a)"
   ]
  },
  {
   "cell_type": "code",
   "execution_count": 90,
   "metadata": {
    "collapsed": false
   },
   "outputs": [
    {
     "name": "stdout",
     "output_type": "stream",
     "text": [
      "True\n",
      "False\n",
      "yellow\n",
      "<__main__.rent_bike instance at 0x0395C940>\n"
     ]
    }
   ],
   "source": [
    "#Derived Classes\n",
    "class Vehicle():\n",
    "    def my_own(self): return True\n",
    "    \n",
    "class Bicycle(Vehicle):\n",
    "    def __init__(self, color): self.color = color\n",
    "    def has_wheels(self): return True\n",
    "\n",
    "class rent_bike(Bicycle):\n",
    "    def my_own(self): return False\n",
    "v = Vehicle()\n",
    "print v.my_own()\n",
    "Ubike = rent_bike('yellow')\n",
    "print Ubike.my_own()\n",
    "print Ubike.color\n",
    "print Ubike"
   ]
  },
  {
   "cell_type": "code",
   "execution_count": 92,
   "metadata": {
    "collapsed": false
   },
   "outputs": [
    {
     "name": "stdout",
     "output_type": "stream",
     "text": [
      "rent2_bike is yellow\n"
     ]
    }
   ],
   "source": [
    "class Vehicle():\n",
    "    def my_own(self): return True\n",
    "    \n",
    "class Bicycle(Vehicle):\n",
    "    def __init__(self, color): self.color = color\n",
    "    def has_wheels(self): return True\n",
    "    def __str__(self): return \"%s is %s\"%(self.__class__.__name__,self.color)\n",
    "\n",
    "class rent2_bike(Bicycle):\n",
    "    def my_own(self): return False\n",
    "Ubike = rent2_bike('yellow')\n",
    "print Ubike\n"
   ]
  },
  {
   "cell_type": "code",
   "execution_count": 101,
   "metadata": {
    "collapsed": true
   },
   "outputs": [],
   "source": [
    "fid = open('test.txt', 'w')\n",
    "fid.write('Hello\\nWorld')\n",
    "fid.close()\n"
   ]
  },
  {
   "cell_type": "code",
   "execution_count": 102,
   "metadata": {
    "collapsed": false
   },
   "outputs": [
    {
     "name": "stdout",
     "output_type": "stream",
     "text": [
      "Line: Hello\n",
      "Line: World\n"
     ]
    }
   ],
   "source": [
    "#Load Hello World\n",
    "fid = open('test.txt', 'r')\n",
    "for line in fid: # Using file identifier as iterator\n",
    "    print(\"Line: \" + line.strip())\n",
    "fid.close()\n"
   ]
  },
  {
   "cell_type": "code",
   "execution_count": 104,
   "metadata": {
    "collapsed": false
   },
   "outputs": [
    {
     "name": "stdout",
     "output_type": "stream",
     "text": [
      "     \tabc\n",
      "efg  13      \n"
     ]
    }
   ],
   "source": [
    "a = '     \\tabc\\nefg  13      '\n",
    "print a"
   ]
  },
  {
   "cell_type": "code",
   "execution_count": 105,
   "metadata": {
    "collapsed": false
   },
   "outputs": [
    {
     "data": {
      "text/plain": [
       "'abc\\nefg  13'"
      ]
     },
     "execution_count": 105,
     "metadata": {},
     "output_type": "execute_result"
    }
   ],
   "source": [
    "a.strip()"
   ]
  },
  {
   "cell_type": "code",
   "execution_count": 107,
   "metadata": {
    "collapsed": false
   },
   "outputs": [
    {
     "name": "stdout",
     "output_type": "stream",
     "text": [
      "Line: 'Hello\\n'\n",
      "Line: 'World'\n"
     ]
    }
   ],
   "source": [
    "fid = open('test.txt', 'r')\n",
    "for line in fid: # Using file identifier as iterator\n",
    "    print(\"Line: \" + repr(line))\n",
    "fid.close()"
   ]
  },
  {
   "cell_type": "code",
   "execution_count": 108,
   "metadata": {
    "collapsed": false
   },
   "outputs": [
    {
     "name": "stdout",
     "output_type": "stream",
     "text": [
      "Line: 'Hello'\n",
      "Line: 'World'\n"
     ]
    }
   ],
   "source": [
    "fid = open('test.txt', 'r')\n",
    "for line in fid: # Using file identifier as iterator\n",
    "    print(\"Line: \" + repr(line.strip()))\n",
    "fid.close()"
   ]
  },
  {
   "cell_type": "code",
   "execution_count": 109,
   "metadata": {
    "collapsed": false
   },
   "outputs": [
    {
     "name": "stdout",
     "output_type": "stream",
     "text": [
      "line Hello\n",
      "World\n"
     ]
    }
   ],
   "source": [
    "fid = open('test.txt', 'r')\n",
    "s = fid.read() # Read the entire file\n",
    "fid.close()\n",
    "print \"line\",s"
   ]
  },
  {
   "cell_type": "code",
   "execution_count": 110,
   "metadata": {
    "collapsed": false
   },
   "outputs": [
    {
     "name": "stdout",
     "output_type": "stream",
     "text": [
      "2\n"
     ]
    }
   ],
   "source": [
    "fid = open('test.txt')\n",
    "k = 0\n",
    "for line in fid:\n",
    "    k = k + 1\n",
    "print(k)\n",
    "fid.close()\n"
   ]
  },
  {
   "cell_type": "code",
   "execution_count": 111,
   "metadata": {
    "collapsed": false
   },
   "outputs": [
    {
     "name": "stdout",
     "output_type": "stream",
     "text": [
      "2\n"
     ]
    }
   ],
   "source": [
    "print len([ line for line in open('test.txt')])"
   ]
  },
  {
   "cell_type": "code",
   "execution_count": 112,
   "metadata": {
    "collapsed": false
   },
   "outputs": [
    {
     "name": "stdout",
     "output_type": "stream",
     "text": [
      "cat cat river car book  car   book   river cat\n"
     ]
    }
   ],
   "source": [
    "a = 'cat cat river car book  car   book   river cat'\n",
    "print a"
   ]
  },
  {
   "cell_type": "code",
   "execution_count": 113,
   "metadata": {
    "collapsed": false
   },
   "outputs": [
    {
     "data": {
      "text/plain": [
       "['cat', 'cat', 'river', 'car', 'book', 'car', 'book', 'river', 'cat']"
      ]
     },
     "execution_count": 113,
     "metadata": {},
     "output_type": "execute_result"
    }
   ],
   "source": [
    "a.split()"
   ]
  },
  {
   "cell_type": "code",
   "execution_count": 118,
   "metadata": {
    "collapsed": false
   },
   "outputs": [
    {
     "data": {
      "text/plain": [
       "['book', 'book', 'car', 'car', 'cat', 'cat', 'cat', 'river', 'river']"
      ]
     },
     "execution_count": 118,
     "metadata": {},
     "output_type": "execute_result"
    }
   ],
   "source": [
    "splita = a.split()\n",
    "splita.sort()\n",
    "splita"
   ]
  },
  {
   "cell_type": "code",
   "execution_count": 129,
   "metadata": {
    "collapsed": false
   },
   "outputs": [
    {
     "name": "stdout",
     "output_type": "stream",
     "text": [
      "current:  new: book\n",
      "current: book new: book\n",
      "current: book new: car\n",
      "book 2\n",
      "current: car new: car\n",
      "current: car new: cat\n",
      "car 2\n",
      "current: cat new: cat\n",
      "current: cat new: cat\n",
      "current: cat new: river\n",
      "cat 3\n",
      "current: river new: river\n",
      "river 2\n"
     ]
    }
   ],
   "source": [
    "#print splita\n",
    "current_word = \"\"\n",
    "k = 0 \n",
    "for i in splita:\n",
    "    if i == current_word:\n",
    "        print \"current: %s new: %s\"%(current_word, i)\n",
    "        k += 1\n",
    "    else:\n",
    "        print \"current: %s new: %s\"%(current_word, i)\n",
    "        if current_word != \"\":\n",
    "            print current_word, k        \n",
    "        current_word = i\n",
    "        k = 1\n",
    "print current_word, k \n",
    "#O(nlog(n))"
   ]
  },
  {
   "cell_type": "code",
   "execution_count": 133,
   "metadata": {
    "collapsed": false
   },
   "outputs": [
    {
     "name": "stdout",
     "output_type": "stream",
     "text": [
      "intermediate {'cat': 1}\n",
      "intermediate {'cat': 2}\n",
      "intermediate {'river': 1, 'cat': 2}\n",
      "intermediate {'car': 1, 'river': 1, 'cat': 2}\n",
      "intermediate {'car': 1, 'river': 1, 'book': 1, 'cat': 2}\n",
      "intermediate {'car': 2, 'river': 1, 'book': 1, 'cat': 2}\n",
      "intermediate {'car': 2, 'river': 1, 'book': 2, 'cat': 2}\n",
      "intermediate {'car': 2, 'river': 2, 'book': 2, 'cat': 2}\n",
      "intermediate {'car': 2, 'river': 2, 'book': 2, 'cat': 3}\n",
      "final {'car': 2, 'river': 2, 'book': 2, 'cat': 3}\n"
     ]
    }
   ],
   "source": [
    "#using dictionary\n",
    "a = 'cat cat river car book  car   book   river cat'\n",
    "dic ={}\n",
    "for i in a.split():\n",
    "    if i in dic:\n",
    "        dic[i] = dic[i] + 1\n",
    "    else:\n",
    "        dic[i] = 1\n",
    "    print \"intermediate\",dic\n",
    "print \"final\",dic\n",
    "#O(n)"
   ]
  },
  {
   "cell_type": "code",
   "execution_count": 136,
   "metadata": {
    "collapsed": false
   },
   "outputs": [
    {
     "name": "stdout",
     "output_type": "stream",
     "text": [
      "cooperation with World Library, Inc., from their Library of the\n",
      "Future and Shakespeare CDROMS.  Project Gutenberg often releases\n",
      "Etexts that are NOT placed in the Public Domain!!\n",
      "\n",
      "*This Etext has certain copyright implications you should read!*\n",
      "\n",
      "<<THIS ELECTRONIC VERSION OF THE COMPLETE WORKS OF WILLIAM\n",
      "SHAKESPEARE IS COPYRIGHT 1990-1993 BY WORLD LIBRARY, INC., AND IS\n",
      "PROVIDED BY PROJECT GUTENBERG WITH PERMISSION.  ELECTRONIC AND\n"
     ]
    }
   ],
   "source": [
    "f = open(\"comedies.txt\", 'r')\n",
    "for line in f.readlines()[1:10]:\n",
    "    print line.strip()\n",
    "f.close()\n"
   ]
  },
  {
   "cell_type": "code",
   "execution_count": 137,
   "metadata": {
    "collapsed": false
   },
   "outputs": [
    {
     "name": "stdout",
     "output_type": "stream",
     "text": [
      "['cooperation', 'with', 'World', 'Library,', 'Inc.,', 'from', 'their', 'Library', 'of', 'the']\n",
      "['Future', 'and', 'Shakespeare', 'CDROMS.', 'Project', 'Gutenberg', 'often', 'releases']\n",
      "['Etexts', 'that', 'are', 'NOT', 'placed', 'in', 'the', 'Public', 'Domain!!']\n",
      "[]\n",
      "['*This', 'Etext', 'has', 'certain', 'copyright', 'implications', 'you', 'should', 'read!*']\n",
      "[]\n",
      "['<<THIS', 'ELECTRONIC', 'VERSION', 'OF', 'THE', 'COMPLETE', 'WORKS', 'OF', 'WILLIAM']\n",
      "['SHAKESPEARE', 'IS', 'COPYRIGHT', '1990-1993', 'BY', 'WORLD', 'LIBRARY,', 'INC.,', 'AND', 'IS']\n",
      "['PROVIDED', 'BY', 'PROJECT', 'GUTENBERG', 'WITH', 'PERMISSION.', 'ELECTRONIC', 'AND']\n"
     ]
    }
   ],
   "source": [
    "f = open(\"comedies.txt\", 'r')\n",
    "cnt = 0\n",
    "for line in f.readlines()[1:10]:\n",
    "    ele = line.strip().split()\n",
    "    print ele\n",
    "f.close()\n"
   ]
  },
  {
   "cell_type": "code",
   "execution_count": 138,
   "metadata": {
    "collapsed": false
   },
   "outputs": [
    {
     "name": "stdout",
     "output_type": "stream",
     "text": [
      "{'and': 1, 'PERMISSION.': 1, 'often': 1, 'COPYRIGHT': 1, 'WORKS': 1, 'certain': 1, 'Shakespeare': 1, 'in': 1, 'should': 1, 'ELECTRONIC': 2, 'Etexts': 1, 'COMPLETE': 1, 'read!*': 1, 'from': 1, 'copyright': 1, 'Inc.,': 1, 'WITH': 1, 'GUTENBERG': 1, 'Public': 1, 'their': 1, 'Gutenberg': 1, 'PROJECT': 1, 'cooperation': 1, '*This': 1, 'SHAKESPEARE': 1, 'World': 1, 'you': 1, 'has': 1, 'BY': 2, '1990-1993': 1, 'CDROMS.': 1, 'releases': 1, 'that': 1, 'IS': 2, 'Domain!!': 1, 'Project': 1, 'Future': 1, 'WORLD': 1, 'THE': 1, 'with': 1, 'Library,': 1, 'AND': 2, 'PROVIDED': 1, 'of': 1, 'INC.,': 1, 'implications': 1, 'Library': 1, 'WILLIAM': 1, 'placed': 1, '<<THIS': 1, 'VERSION': 1, 'LIBRARY,': 1, 'OF': 2, 'NOT': 1, 'the': 2, 'Etext': 1, 'are': 1}\n"
     ]
    }
   ],
   "source": [
    "f = open(\"comedies.txt\", 'r')\n",
    "dict = {}\n",
    "for line in f.readlines()[1:10]:\n",
    "    ele = line.strip().split()\n",
    "    for word in ele:\n",
    "        if word in dict:\n",
    "            dict[word] = dict[word] + 1\n",
    "        else:\n",
    "            dict[word] = 1\n",
    "f.close()\n",
    "print dict\n"
   ]
  },
  {
   "cell_type": "code",
   "execution_count": 140,
   "metadata": {
    "collapsed": false
   },
   "outputs": [
    {
     "name": "stdout",
     "output_type": "stream",
     "text": [
      "[('PERMISSION.', 1), ('often', 1), ('COPYRIGHT', 1), ('WORKS', 1), ('certain', 1), ('Shakespeare', 1), ('in', 1), ('should', 1), ('ELECTRONIC', 2)]\n"
     ]
    }
   ],
   "source": [
    "print dict.items()[1:10]\n",
    "\n"
   ]
  },
  {
   "cell_type": "code",
   "execution_count": 141,
   "metadata": {
    "collapsed": false
   },
   "outputs": [
    {
     "name": "stdout",
     "output_type": "stream",
     "text": [
      "[('ELECTRONIC', 2), ('BY', 2), ('IS', 2), ('AND', 2), ('OF', 2)]\n"
     ]
    }
   ],
   "source": [
    "import operator\n",
    "sorted_x = sorted(dict.items(), key=operator.itemgetter(1), reverse=True)\n",
    "print sorted_x[0:5]"
   ]
  },
  {
   "cell_type": "code",
   "execution_count": 151,
   "metadata": {
    "collapsed": false
   },
   "outputs": [
    {
     "name": "stdout",
     "output_type": "stream",
     "text": [
      "log 2\n",
      "依據排序的方法：插入、交換、選擇、合併等等。 1\n",
      "計算的時間複雜度（最差、平均、和最好表現），依據串列（list）的大小(n)。一般而言，好的表現是o(n 1\n",
      "穩定性：穩定排序演算法會讓原本有相等鍵值的紀錄維持相對次序。也就是如果一個排序演算法是穩定的，當有兩個相等鍵值的紀錄r和s，且在原本的串列中r出現在s之前，在排序過的串列中r也將會是在s之前。 1\n",
      "﻿在電腦科學所使用的排序演算法通常被分類為： 1\n",
      "n)，且壞的表現是o(n2)。對於一個排序理想的表現是o(n)。僅使用一個抽象關鍵比較運算的排序演算法總平均上總是至少需要o(n 1\n",
      "記憶體使用量（以及其他電腦資源的使用） 1\n",
      "n)。 1\n"
     ]
    }
   ],
   "source": [
    "f = open(\"comedies.txt\", 'r')\n",
    "dict = {}\n",
    "for line in f.readlines():\n",
    "    ele = line.lower().strip().split()\n",
    "    for word in ele:\n",
    "        if word in dict:\n",
    "            dict[word] = dict[word] + 1\n",
    "        else:\n",
    "            dict[word] = 1\n",
    "f.close()\n",
    "import operator\n",
    "sorted_x = sorted(dict.items(), key=operator.itemgetter(1), reverse=True)\n",
    "for i in sorted_x:\n",
    "    print i[0], i[1]"
   ]
  },
  {
   "cell_type": "code",
   "execution_count": 152,
   "metadata": {
    "collapsed": false
   },
   "outputs": [
    {
     "name": "stderr",
     "output_type": "stream",
     "text": [
      "Building Trie..., from C:\\Python27\\lib\\site-packages\\jieba\\dict.txt\n",
      "DEBUG:jieba:Building Trie..., from C:\\Python27\\lib\\site-packages\\jieba\\dict.txt\n",
      "dumping model to file cache c:\\users\\david\\appdata\\local\\temp\\jieba.cache\n",
      "DEBUG:jieba:dumping model to file cache c:\\users\\david\\appdata\\local\\temp\\jieba.cache\n",
      "loading model cost 3.03299999237 seconds.\n",
      "DEBUG:jieba:loading model cost 3.03299999237 seconds.\n",
      "Trie has been built succesfully.\n",
      "DEBUG:jieba:Trie has been built succesfully.\n"
     ]
    },
    {
     "name": "stdout",
     "output_type": "stream",
     "text": [
      "Full Mode: 我/ 来到/ 北京/ 清华/ 清华大学/ 华大/ 大学\n"
     ]
    }
   ],
   "source": [
    "#encoding=utf-8\n",
    "import jieba\n",
    "\n",
    "seg_list = jieba.cut(\"我来到北京清华大学\", cut_all=True)\n",
    "print(\"Full Mode: \" + \"/ \".join(seg_list))"
   ]
  },
  {
   "cell_type": "code",
   "execution_count": 154,
   "metadata": {
    "collapsed": false
   },
   "outputs": [
    {
     "name": "stdout",
     "output_type": "stream",
     "text": [
      "Full Mode: ﻿/ 在/ 電腦/ 科學/ 所/ 使用/ 的/ 排序/ 演算法/ 通常/ 被/ 分類/ 為/ ：/ \n",
      "\n",
      "Full Mode: 計算/ 的/ 時間/ 複/ 雜度/ （/ 最差/ 、/ 平均/ 、/ 和/ 最好/ 表現/ ）/ ，/ 依據/ 串列/ （/ list/ ）/ 的/ 大小/ (/ n/ )/ 。/ 一般而言/ ，/ 好/ 的/ 表現/ 是/ O/ (/ n/  / log/  / n/ )/ ，/ 且/ 壞/ 的/ 表現/ 是/ O/ (/ n2/ )/ 。/ 對/ 於/ 一個/ 排序/ 理想/ 的/ 表現/ 是/ O/ (/ n/ )/ 。/ 僅/ 使用/ 一個/ 抽象/ 關鍵/ 比較/ 運算/ 的/ 排序/ 演算法/ 總/ 平均/ 上/ 總/ 是/ 至少/ 需要/ O/ (/ n/  / log/  / n/ )/ 。/ \n",
      "\n",
      "Full Mode: 記憶體/ 使用量/ （/ 以及/ 其他/ 電腦/ 資源/ 的/ 使用/ ）/ \n",
      "\n",
      "Full Mode: 穩/ 定性/ ：/ 穩定/ 排序/ 演算法/ 會/ 讓/ 原本/ 有/ 相等/ 鍵值/ 的/ 紀錄/ 維持/ 相對/ 次序/ 。/ 也/ 就是/ 如果/ 一個/ 排序/ 演算法/ 是/ 穩定/ 的/ ，/ 當有/ 兩個/ 相等/ 鍵值/ 的/ 紀錄/ R/ 和/ S/ ，/ 且/ 在/ 原本/ 的/ 串列/ 中/ R/ 出現/ 在/ S/ 之前/ ，/ 在/ 排序/ 過的/ 串列/ 中/ R/ 也/ 將會/ 是/ 在/ S/ 之前/ 。/ \n",
      "\n",
      "Full Mode: 依據/ 排序/ 的/ 方法/ ：/ 插入/ 、/ 交換/ 、/ 選擇/ 、/ 合/ 併/ 等等/ 。\n"
     ]
    }
   ],
   "source": [
    "f = open(\"comedies.txt\", 'r')\n",
    "dict = {}\n",
    "for line in f.readlines():\n",
    "    seg_list = jieba.cut(line)\n",
    "    print(\"Full Mode: \" + \"/ \".join(seg_list))\n",
    "f.close()"
   ]
  },
  {
   "cell_type": "code",
   "execution_count": 155,
   "metadata": {
    "collapsed": false
   },
   "outputs": [
    {
     "data": {
      "text/plain": [
       "1000000000000L"
      ]
     },
     "execution_count": 155,
     "metadata": {},
     "output_type": "execute_result"
    }
   ],
   "source": [
    "n = 1000000\n",
    "1000000 * 1000000\n",
    "1000000 * log(1000000)"
   ]
  },
  {
   "cell_type": "code",
   "execution_count": 157,
   "metadata": {
    "collapsed": false
   },
   "outputs": [
    {
     "name": "stdout",
     "output_type": "stream",
     "text": [
      "{'pig': 1, 'dog': 2, 'cat': 3}\n"
     ]
    }
   ],
   "source": [
    "dic = {}\n",
    "\n",
    "a = \"cat cat dog cat dog pig\"\n",
    "for i in a.split():\n",
    "    if i in dic:\n",
    "        dic[i] = dic[i] + 1\n",
    "    else:\n",
    "        dic[i] = 1\n",
    "print dic"
   ]
  },
  {
   "cell_type": "code",
   "execution_count": null,
   "metadata": {
    "collapsed": true
   },
   "outputs": [],
   "source": [
    "keyword: 10\n",
    "1,000,000 * 5000\n",
    "log(10) "
   ]
  },
  {
   "cell_type": "code",
   "execution_count": 162,
   "metadata": {
    "collapsed": false
   },
   "outputs": [
    {
     "name": "stdout",
     "output_type": "stream",
     "text": [
      "200\n",
      "text/html; charset=utf-8\n"
     ]
    }
   ],
   "source": [
    "import requests\n",
    "qoo = requests.get(\"https://www.python.org/\")\n",
    "#print qoo.text\n",
    "print qoo.status_code \n",
    "print qoo.headers['content-type']\n"
   ]
  },
  {
   "cell_type": "code",
   "execution_count": 164,
   "metadata": {
    "collapsed": false
   },
   "outputs": [],
   "source": [
    "import requests\n",
    "qoo = {\"StartStation\":\"977abb69-413a-4ccf-a109-0272c24fd490\",\n",
    "\"EndStation\":\"fbd828d8-b1da-4b06-a3bd-680cdca4d2cd\",\n",
    "\"SearchDate\":\"2015/03/13\",\n",
    "\"SearchTime\":\"18:00\",\n",
    "\"SearchWay\":\"DepartureInMandarin\"}\n",
    "res = requests.post(\"http://www.thsrc.com.tw/tw/TimeTable/SearchResult\", data = qoo)\n",
    "#print res.text"
   ]
  },
  {
   "cell_type": "code",
   "execution_count": 165,
   "metadata": {
    "collapsed": false
   },
   "outputs": [
    {
     "name": "stdout",
     "output_type": "stream",
     "text": [
      "   Hello World This is link1 This is link2  \n"
     ]
    }
   ],
   "source": [
    "from bs4 import BeautifulSoup \n",
    "html_sample = ' \\\n",
    "<html> \\\n",
    " <body> \\\n",
    " <h1 id=\"title\">Hello World</h1> \\\n",
    " <a href=\"#\" class=\"link\">This is link1</a> \\\n",
    " <a href=\"# link2\" class=\"link\">This is link2</a> \\\n",
    " </body> \\\n",
    " </html>'\n",
    "\n",
    "soup = BeautifulSoup(html_sample)\n",
    "print soup.text\n"
   ]
  },
  {
   "cell_type": "code",
   "execution_count": 166,
   "metadata": {
    "collapsed": false
   },
   "outputs": [
    {
     "name": "stdout",
     "output_type": "stream",
     "text": [
      "<a class=\"link\" href=\"#\">This is link1</a>\n"
     ]
    }
   ],
   "source": [
    "alink = soup.find('a') \n",
    "print alink\n"
   ]
  },
  {
   "cell_type": "code",
   "execution_count": 167,
   "metadata": {
    "collapsed": false
   },
   "outputs": [
    {
     "name": "stdout",
     "output_type": "stream",
     "text": [
      "<a class=\"link\" href=\"#\">This is link1</a>\n",
      "<a class=\"link\" href=\"# link2\">This is link2</a>\n"
     ]
    }
   ],
   "source": [
    "for alink in soup.findAll('a'): \n",
    "    print alink"
   ]
  },
  {
   "cell_type": "code",
   "execution_count": 168,
   "metadata": {
    "collapsed": false
   },
   "outputs": [
    {
     "data": {
      "text/plain": [
       "[<a class=\"link\" href=\"#\">This is link1</a>,\n",
       " <a class=\"link\" href=\"# link2\">This is link2</a>]"
      ]
     },
     "execution_count": 168,
     "metadata": {},
     "output_type": "execute_result"
    }
   ],
   "source": [
    "soup.findAll('a')"
   ]
  },
  {
   "cell_type": "code",
   "execution_count": 169,
   "metadata": {
    "collapsed": false
   },
   "outputs": [
    {
     "data": {
      "text/plain": [
       "<a class=\"link\" href=\"#\">This is link1</a>"
      ]
     },
     "execution_count": 169,
     "metadata": {},
     "output_type": "execute_result"
    }
   ],
   "source": [
    "soup.findAll('a')[0]"
   ]
  },
  {
   "cell_type": "code",
   "execution_count": 170,
   "metadata": {
    "collapsed": false
   },
   "outputs": [
    {
     "name": "stdout",
     "output_type": "stream",
     "text": [
      "[u'This is link1']\n",
      "[u'This is link2']\n"
     ]
    }
   ],
   "source": [
    "for alink in soup.findAll('a'): \n",
    "    print alink.contents"
   ]
  },
  {
   "cell_type": "code",
   "execution_count": 171,
   "metadata": {
    "collapsed": false
   },
   "outputs": [
    {
     "name": "stdout",
     "output_type": "stream",
     "text": [
      "This is link1\n",
      "This is link2\n"
     ]
    }
   ],
   "source": [
    "for alink in soup.findAll('a'): \n",
    "    print alink.text"
   ]
  },
  {
   "cell_type": "code",
   "execution_count": 172,
   "metadata": {
    "collapsed": false
   },
   "outputs": [
    {
     "data": {
      "text/plain": [
       "['HTML_FORMATTERS',\n",
       " 'XML_FORMATTERS',\n",
       " '__call__',\n",
       " '__class__',\n",
       " '__contains__',\n",
       " '__delattr__',\n",
       " '__delitem__',\n",
       " '__dict__',\n",
       " '__doc__',\n",
       " '__eq__',\n",
       " '__format__',\n",
       " '__getattr__',\n",
       " '__getattribute__',\n",
       " '__getitem__',\n",
       " '__hash__',\n",
       " '__init__',\n",
       " '__iter__',\n",
       " '__len__',\n",
       " '__module__',\n",
       " '__ne__',\n",
       " '__new__',\n",
       " '__nonzero__',\n",
       " '__reduce__',\n",
       " '__reduce_ex__',\n",
       " '__repr__',\n",
       " '__setattr__',\n",
       " '__setitem__',\n",
       " '__sizeof__',\n",
       " '__str__',\n",
       " '__subclasshook__',\n",
       " '__unicode__',\n",
       " '__weakref__',\n",
       " '_all_strings',\n",
       " '_attr_value_as_string',\n",
       " '_attribute_checker',\n",
       " '_find_all',\n",
       " '_find_one',\n",
       " '_formatter_for_name',\n",
       " '_is_xml',\n",
       " '_lastRecursiveChild',\n",
       " '_last_descendant',\n",
       " '_select_debug',\n",
       " '_selector_combinators',\n",
       " '_should_pretty_print',\n",
       " '_tag_name_matches_and',\n",
       " 'append',\n",
       " 'attribselect_re',\n",
       " 'attrs',\n",
       " 'can_be_empty_element',\n",
       " 'childGenerator',\n",
       " 'children',\n",
       " 'clear',\n",
       " 'contents',\n",
       " 'decode',\n",
       " 'decode_contents',\n",
       " 'decompose',\n",
       " 'descendants',\n",
       " 'encode',\n",
       " 'encode_contents',\n",
       " 'extract',\n",
       " 'fetchNextSiblings',\n",
       " 'fetchParents',\n",
       " 'fetchPrevious',\n",
       " 'fetchPreviousSiblings',\n",
       " 'find',\n",
       " 'findAll',\n",
       " 'findAllNext',\n",
       " 'findAllPrevious',\n",
       " 'findChild',\n",
       " 'findChildren',\n",
       " 'findNext',\n",
       " 'findNextSibling',\n",
       " 'findNextSiblings',\n",
       " 'findParent',\n",
       " 'findParents',\n",
       " 'findPrevious',\n",
       " 'findPreviousSibling',\n",
       " 'findPreviousSiblings',\n",
       " 'find_all',\n",
       " 'find_all_next',\n",
       " 'find_all_previous',\n",
       " 'find_next',\n",
       " 'find_next_sibling',\n",
       " 'find_next_siblings',\n",
       " 'find_parent',\n",
       " 'find_parents',\n",
       " 'find_previous',\n",
       " 'find_previous_sibling',\n",
       " 'find_previous_siblings',\n",
       " 'format_string',\n",
       " 'get',\n",
       " 'getText',\n",
       " 'get_text',\n",
       " 'has_attr',\n",
       " 'has_key',\n",
       " 'hidden',\n",
       " 'index',\n",
       " 'insert',\n",
       " 'insert_after',\n",
       " 'insert_before',\n",
       " 'isSelfClosing',\n",
       " 'is_empty_element',\n",
       " 'name',\n",
       " 'namespace',\n",
       " 'next',\n",
       " 'nextGenerator',\n",
       " 'nextSibling',\n",
       " 'nextSiblingGenerator',\n",
       " 'next_element',\n",
       " 'next_elements',\n",
       " 'next_sibling',\n",
       " 'next_siblings',\n",
       " 'parent',\n",
       " 'parentGenerator',\n",
       " 'parents',\n",
       " 'parserClass',\n",
       " 'parser_class',\n",
       " 'prefix',\n",
       " 'prettify',\n",
       " 'previous',\n",
       " 'previousGenerator',\n",
       " 'previousSibling',\n",
       " 'previousSiblingGenerator',\n",
       " 'previous_element',\n",
       " 'previous_elements',\n",
       " 'previous_sibling',\n",
       " 'previous_siblings',\n",
       " 'recursiveChildGenerator',\n",
       " 'renderContents',\n",
       " 'replaceWith',\n",
       " 'replaceWithChildren',\n",
       " 'replace_with',\n",
       " 'replace_with_children',\n",
       " 'select',\n",
       " 'setup',\n",
       " 'string',\n",
       " 'strings',\n",
       " 'stripped_strings',\n",
       " 'tag_name_re',\n",
       " 'text',\n",
       " 'unwrap',\n",
       " 'wrap']"
      ]
     },
     "execution_count": 172,
     "metadata": {},
     "output_type": "execute_result"
    }
   ],
   "source": [
    "dir(soup.findAll('a')[0])"
   ]
  },
  {
   "cell_type": "code",
   "execution_count": 173,
   "metadata": {
    "collapsed": false
   },
   "outputs": [
    {
     "name": "stdout",
     "output_type": "stream",
     "text": [
      "<h1 id=\"title\">Hello World</h1>\n"
     ]
    }
   ],
   "source": [
    "alink = soup.find('h1', {'id':'title'}) \n",
    "print alink"
   ]
  },
  {
   "cell_type": "code",
   "execution_count": 174,
   "metadata": {
    "collapsed": false
   },
   "outputs": [
    {
     "name": "stdout",
     "output_type": "stream",
     "text": [
      "<a class=\"link\" href=\"#\">This is link1</a>\n",
      "<a class=\"link\" href=\"# link2\">This is link2</a>\n"
     ]
    }
   ],
   "source": [
    "soup = BeautifulSoup(html_sample) \n",
    "for link in soup.findAll('a', {'class': 'link'}): \n",
    "    print link"
   ]
  },
  {
   "cell_type": "code",
   "execution_count": 177,
   "metadata": {
    "collapsed": false
   },
   "outputs": [
    {
     "name": "stdout",
     "output_type": "stream",
     "text": [
      "#\n",
      "# link2\n"
     ]
    }
   ],
   "source": [
    "alinks = soup.findAll('a', {'href': True}) \n",
    "for link in alinks: \n",
    "    #print dir(link)\n",
    "    print link['href']"
   ]
  },
  {
   "cell_type": "code",
   "execution_count": 178,
   "metadata": {
    "collapsed": false
   },
   "outputs": [
    {
     "data": {
      "text/plain": [
       "[<a class=\"link\" href=\"#\">This is link1</a>,\n",
       " <a class=\"link\" href=\"# link2\">This is link2</a>]"
      ]
     },
     "execution_count": 178,
     "metadata": {},
     "output_type": "execute_result"
    }
   ],
   "source": [
    "a = soup.select(\"a\")\n",
    "a"
   ]
  },
  {
   "cell_type": "code",
   "execution_count": 179,
   "metadata": {
    "collapsed": false
   },
   "outputs": [
    {
     "data": {
      "text/plain": [
       "<a class=\"link\" href=\"#\">This is link1</a>"
      ]
     },
     "execution_count": 179,
     "metadata": {},
     "output_type": "execute_result"
    }
   ],
   "source": [
    "a[0]"
   ]
  },
  {
   "cell_type": "code",
   "execution_count": 180,
   "metadata": {
    "collapsed": false
   },
   "outputs": [
    {
     "data": {
      "text/plain": [
       "u'This is link1'"
      ]
     },
     "execution_count": 180,
     "metadata": {},
     "output_type": "execute_result"
    }
   ],
   "source": [
    "a[0].text"
   ]
  },
  {
   "cell_type": "code",
   "execution_count": 184,
   "metadata": {
    "collapsed": false
   },
   "outputs": [
    {
     "data": {
      "text/plain": [
       "u'\\nPython is a programming language that lets you work quickly and integrate systems more effectively. Learn More\\n'"
      ]
     },
     "execution_count": 184,
     "metadata": {},
     "output_type": "execute_result"
    }
   ],
   "source": [
    "import requests\n",
    "from bs4 import BeautifulSoup\n",
    "res = requests.get(\"https://www.python.org/\")\n",
    "soup = BeautifulSoup(res.text)\n",
    "soup.select(\".introduction\") # class = . id = #\n",
    "soup.select(\".introduction\")[0]\n",
    "soup.select(\".introduction\")[0].text"
   ]
  },
  {
   "cell_type": "code",
   "execution_count": 185,
   "metadata": {
    "collapsed": false
   },
   "outputs": [
    {
     "name": "stdout",
     "output_type": "stream",
     "text": [
      "[<section class=\"result_table\">\n",
      "<table>\n",
      "<tr>\n",
      "<th class=\"column1\" scope=\"col\">車次</th>\n",
      "<th class=\"column3\" scope=\"col\">出發時間</th>\n",
      "<th class=\"column4\" scope=\"col\">抵達時間</th>\n",
      "<th class=\"column2\" scope=\"col\">備註</th>\n",
      "</tr>\n",
      "<tr>\n",
      "<td class=\"toTouch\" colspan=\"4\">\n",
      "<table class=\"touch_table\"><tr>\n",
      "<td class=\"column1\"><a href=\"javascript:;\" title=\"0733\">0733</a></td>\n",
      "<td class=\"column3\">18:00</td>\n",
      "<td class=\"column4\">18:19</td>\n",
      "<td class=\"column2\"></td>\n",
      "</tr>\n",
      "</table>\n",
      "<div class=\"touch_show\">\n",
      "<section class=\"touch_table_info touch_table_info_tw\">\n",
      "<a class=\"touch_close\" href=\"#\" title=\"close\">close</a>\n",
      "<h3><strong>0733 列車 </strong>停靠說明 </h3>\n",
      "<ul>\n",
      "<li class=\"station10 current\"><a href=\"javascript:;\" title=\"台北站\">台北站</a><em>18:00</em></li>\n",
      "<li class=\"station15 current\"><a href=\"javascript:;\" title=\"板橋站\">板橋站</a><em>18:08</em></li>\n",
      "<li class=\"station20 current\"><a href=\"javascript:;\" title=\"桃園站\">桃園站</a><em>18:21</em></li>\n",
      "<li class=\"station25 current\"><a href=\"javascript:;\" title=\"新竹站\">新竹站</a><em>18:33</em></li>\n",
      "<li class=\"station40 current\"><a href=\"javascript:;\" title=\"台中站\">台中站</a><em>19:01</em></li>\n",
      "<li class=\"station55 current\"><a href=\"javascript:;\" title=\"嘉義站\">嘉義站</a><em>19:26</em></li>\n",
      "<li class=\"station65 current\"><a href=\"javascript:;\" title=\"台南站\">台南站</a><em>19:45</em></li>\n",
      "<li class=\"station75 current\"><a href=\"javascript:;\" title=\"左營站\">左營站</a><em>20:00</em></li>\n",
      "</ul>\n",
      "<h4> </h4>\n",
      "</section>\n",
      "</div>\n",
      "</td>\n",
      "</tr>\n",
      "<tr>\n",
      "<td class=\"toTouch\" colspan=\"4\">\n",
      "<table class=\"touch_table\"><tr>\n",
      "<td class=\"column1\"><a href=\"javascript:;\" title=\"1735\">1735</a></td>\n",
      "<td class=\"column3\">18:18</td>\n",
      "<td class=\"column4\">18:37</td>\n",
      "<td class=\"column2\"></td>\n",
      "</tr>\n",
      "</table>\n",
      "<div class=\"touch_show\">\n",
      "<section class=\"touch_table_info touch_table_info_tw\">\n",
      "<a class=\"touch_close\" href=\"#\" title=\"close\">close</a>\n",
      "<h3><strong>1735 列車 </strong>停靠說明 </h3>\n",
      "<ul>\n",
      "<li class=\"station10 current\"><a href=\"javascript:;\" title=\"台北站\">台北站</a><em>18:18</em></li>\n",
      "<li class=\"station15 current\"><a href=\"javascript:;\" title=\"板橋站\">板橋站</a><em>18:26</em></li>\n",
      "<li class=\"station20 current\"><a href=\"javascript:;\" title=\"桃園站\">桃園站</a><em>18:39</em></li>\n",
      "<li class=\"station25 current\"><a href=\"javascript:;\" title=\"新竹站\">新竹站</a><em>18:51</em></li>\n",
      "<li class=\"station40 current\"><a href=\"javascript:;\" title=\"台中站\">台中站</a><em>19:19</em></li>\n",
      "<li class=\"station55 current\"><a href=\"javascript:;\" title=\"嘉義站\">嘉義站</a><em>19:44</em></li>\n",
      "<li class=\"station65 current\"><a href=\"javascript:;\" title=\"台南站\">台南站</a><em>20:03</em></li>\n",
      "<li class=\"station75 current\"><a href=\"javascript:;\" title=\"左營站\">左營站</a><em>20:18</em></li>\n",
      "</ul>\n",
      "<h4> </h4>\n",
      "</section>\n",
      "</div>\n",
      "</td>\n",
      "</tr>\n",
      "<tr>\n",
      "<td class=\"toTouch\" colspan=\"4\">\n",
      "<table class=\"touch_table\"><tr>\n",
      "<td class=\"column1\"><a href=\"javascript:;\" title=\"0737\">0737</a></td>\n",
      "<td class=\"column3\">18:36</td>\n",
      "<td class=\"column4\">18:55</td>\n",
      "<td class=\"column2\"></td>\n",
      "</tr>\n",
      "</table>\n",
      "<div class=\"touch_show\">\n",
      "<section class=\"touch_table_info touch_table_info_tw\">\n",
      "<a class=\"touch_close\" href=\"#\" title=\"close\">close</a>\n",
      "<h3><strong>0737 列車 </strong>停靠說明 </h3>\n",
      "<ul>\n",
      "<li class=\"station10 current\"><a href=\"javascript:;\" title=\"台北站\">台北站</a><em>18:36</em></li>\n",
      "<li class=\"station15 current\"><a href=\"javascript:;\" title=\"板橋站\">板橋站</a><em>18:44</em></li>\n",
      "<li class=\"station20 current\"><a href=\"javascript:;\" title=\"桃園站\">桃園站</a><em>18:57</em></li>\n",
      "<li class=\"station25 current\"><a href=\"javascript:;\" title=\"新竹站\">新竹站</a><em>19:10</em></li>\n",
      "<li class=\"station40 current\"><a href=\"javascript:;\" title=\"台中站\">台中站</a><em>19:38</em></li>\n",
      "<li class=\"station55 current\"><a href=\"javascript:;\" title=\"嘉義站\">嘉義站</a><em>20:02</em></li>\n",
      "<li class=\"station65 current\"><a href=\"javascript:;\" title=\"台南站\">台南站</a><em>20:21</em></li>\n",
      "<li class=\"station75 current\"><a href=\"javascript:;\" title=\"左營站\">左營站</a><em>20:36</em></li>\n",
      "</ul>\n",
      "<h4> </h4>\n",
      "</section>\n",
      "</div>\n",
      "</td>\n",
      "</tr>\n",
      "<tr>\n",
      "<td class=\"toTouch\" colspan=\"4\">\n",
      "<table class=\"touch_table\"><tr>\n",
      "<td class=\"column1\"><a href=\"javascript:;\" title=\"1529\">1529</a></td>\n",
      "<td class=\"column3\">18:48</td>\n",
      "<td class=\"column4\">19:07</td>\n",
      "<td class=\"column2\"></td>\n",
      "</tr>\n",
      "</table>\n",
      "<div class=\"touch_show\">\n",
      "<section class=\"touch_table_info touch_table_info_tw\">\n",
      "<a class=\"touch_close\" href=\"#\" title=\"close\">close</a>\n",
      "<h3><strong>1529 列車 </strong>停靠說明 </h3>\n",
      "<ul>\n",
      "<li class=\"station10 current\"><a href=\"javascript:;\" title=\"台北站\">台北站</a><em>18:48</em></li>\n",
      "<li class=\"station15 current\"><a href=\"javascript:;\" title=\"板橋站\">板橋站</a><em>18:56</em></li>\n",
      "<li class=\"station20 current\"><a href=\"javascript:;\" title=\"桃園站\">桃園站</a><em>19:09</em></li>\n",
      "<li class=\"station25 current\"><a href=\"javascript:;\" title=\"新竹站\">新竹站</a><em>19:22</em></li>\n",
      "<li class=\"station40 current\"><a href=\"javascript:;\" title=\"台中站\">台中站</a><em>19:49</em></li>\n",
      "<li class=\"station55 \"><a href=\"javascript:;\" title=\"嘉義站\">嘉義站</a><em></em></li>\n",
      "<li class=\"station65 \"><a href=\"javascript:;\" title=\"台南站\">台南站</a><em></em></li>\n",
      "<li class=\"station75 \"><a href=\"javascript:;\" title=\"左營站\">左營站</a><em></em></li>\n",
      "</ul>\n",
      "<h4> </h4>\n",
      "</section>\n",
      "</div>\n",
      "</td>\n",
      "</tr>\n",
      "<tr>\n",
      "<td class=\"toTouch\" colspan=\"4\">\n",
      "<table class=\"touch_table\"><tr>\n",
      "<td class=\"column1\"><a href=\"javascript:;\" title=\"0741\">0741</a></td>\n",
      "<td class=\"column3\">19:00</td>\n",
      "<td class=\"column4\">19:19</td>\n",
      "<td class=\"column2\"></td>\n",
      "</tr>\n",
      "</table>\n",
      "<div class=\"touch_show\">\n",
      "<section class=\"touch_table_info touch_table_info_tw\">\n",
      "<a class=\"touch_close\" href=\"#\" title=\"close\">close</a>\n",
      "<h3><strong>0741 列車 </strong>停靠說明 </h3>\n",
      "<ul>\n",
      "<li class=\"station10 current\"><a href=\"javascript:;\" title=\"台北站\">台北站</a><em>19:00</em></li>\n",
      "<li class=\"station15 current\"><a href=\"javascript:;\" title=\"板橋站\">板橋站</a><em>19:08</em></li>\n",
      "<li class=\"station20 current\"><a href=\"javascript:;\" title=\"桃園站\">桃園站</a><em>19:21</em></li>\n",
      "<li class=\"station25 current\"><a href=\"javascript:;\" title=\"新竹站\">新竹站</a><em>19:33</em></li>\n",
      "<li class=\"station40 current\"><a href=\"javascript:;\" title=\"台中站\">台中站</a><em>20:01</em></li>\n",
      "<li class=\"station55 current\"><a href=\"javascript:;\" title=\"嘉義站\">嘉義站</a><em>20:26</em></li>\n",
      "<li class=\"station65 current\"><a href=\"javascript:;\" title=\"台南站\">台南站</a><em>20:47</em></li>\n",
      "<li class=\"station75 current\"><a href=\"javascript:;\" title=\"左營站\">左營站</a><em>21:00</em></li>\n",
      "</ul>\n",
      "<h4> </h4>\n",
      "</section>\n",
      "</div>\n",
      "</td>\n",
      "</tr>\n",
      "<tr>\n",
      "<td class=\"toTouch\" colspan=\"4\">\n",
      "<table class=\"touch_table\"><tr>\n",
      "<td class=\"column1\"><a href=\"javascript:;\" title=\"1743\">1743</a></td>\n",
      "<td class=\"column3\">19:18</td>\n",
      "<td class=\"column4\">19:37</td>\n",
      "<td class=\"column2\"></td>\n",
      "</tr>\n",
      "</table>\n",
      "<div class=\"touch_show\">\n",
      "<section class=\"touch_table_info touch_table_info_tw\">\n",
      "<a class=\"touch_close\" href=\"#\" title=\"close\">close</a>\n",
      "<h3><strong>1743 列車 </strong>停靠說明 </h3>\n",
      "<ul>\n",
      "<li class=\"station10 current\"><a href=\"javascript:;\" title=\"台北站\">台北站</a><em>19:18</em></li>\n",
      "<li class=\"station15 current\"><a href=\"javascript:;\" title=\"板橋站\">板橋站</a><em>19:26</em></li>\n",
      "<li class=\"station20 current\"><a href=\"javascript:;\" title=\"桃園站\">桃園站</a><em>19:39</em></li>\n",
      "<li class=\"station25 current\"><a href=\"javascript:;\" title=\"新竹站\">新竹站</a><em>19:51</em></li>\n",
      "<li class=\"station40 current\"><a href=\"javascript:;\" title=\"台中站\">台中站</a><em>20:19</em></li>\n",
      "<li class=\"station55 current\"><a href=\"javascript:;\" title=\"嘉義站\">嘉義站</a><em>20:44</em></li>\n",
      "<li class=\"station65 current\"><a href=\"javascript:;\" title=\"台南站\">台南站</a><em>21:03</em></li>\n",
      "<li class=\"station75 current\"><a href=\"javascript:;\" title=\"左營站\">左營站</a><em>21:18</em></li>\n",
      "</ul>\n",
      "<h4> </h4>\n",
      "</section>\n",
      "</div>\n",
      "</td>\n",
      "</tr>\n",
      "<tr>\n",
      "<td class=\"toTouch\" colspan=\"4\">\n",
      "<table class=\"touch_table\"><tr>\n",
      "<td class=\"column1\"><a href=\"javascript:;\" title=\"0745\">0745</a></td>\n",
      "<td class=\"column3\">19:36</td>\n",
      "<td class=\"column4\">19:55</td>\n",
      "<td class=\"column2\"></td>\n",
      "</tr>\n",
      "</table>\n",
      "<div class=\"touch_show\">\n",
      "<section class=\"touch_table_info touch_table_info_tw\">\n",
      "<a class=\"touch_close\" href=\"#\" title=\"close\">close</a>\n",
      "<h3><strong>0745 列車 </strong>停靠說明 </h3>\n",
      "<ul>\n",
      "<li class=\"station10 current\"><a href=\"javascript:;\" title=\"台北站\">台北站</a><em>19:36</em></li>\n",
      "<li class=\"station15 current\"><a href=\"javascript:;\" title=\"板橋站\">板橋站</a><em>19:44</em></li>\n",
      "<li class=\"station20 current\"><a href=\"javascript:;\" title=\"桃園站\">桃園站</a><em>19:57</em></li>\n",
      "<li class=\"station25 current\"><a href=\"javascript:;\" title=\"新竹站\">新竹站</a><em>20:10</em></li>\n",
      "<li class=\"station40 current\"><a href=\"javascript:;\" title=\"台中站\">台中站</a><em>20:38</em></li>\n",
      "<li class=\"station55 current\"><a href=\"javascript:;\" title=\"嘉義站\">嘉義站</a><em>21:02</em></li>\n",
      "<li class=\"station65 current\"><a href=\"javascript:;\" title=\"台南站\">台南站</a><em>21:21</em></li>\n",
      "<li class=\"station75 current\"><a href=\"javascript:;\" title=\"左營站\">左營站</a><em>21:36</em></li>\n",
      "</ul>\n",
      "<h4> </h4>\n",
      "</section>\n",
      "</div>\n",
      "</td>\n",
      "</tr>\n",
      "<tr>\n",
      "<td class=\"toTouch\" colspan=\"4\">\n",
      "<table class=\"touch_table\"><tr>\n",
      "<td class=\"column1\"><a href=\"javascript:;\" title=\"0749\">0749</a></td>\n",
      "<td class=\"column3\">20:00</td>\n",
      "<td class=\"column4\">20:19</td>\n",
      "<td class=\"column2\"></td>\n",
      "</tr>\n",
      "</table>\n",
      "<div class=\"touch_show\">\n",
      "<section class=\"touch_table_info touch_table_info_tw\">\n",
      "<a class=\"touch_close\" href=\"#\" title=\"close\">close</a>\n",
      "<h3><strong>0749 列車 </strong>停靠說明 </h3>\n",
      "<ul>\n",
      "<li class=\"station10 current\"><a href=\"javascript:;\" title=\"台北站\">台北站</a><em>20:00</em></li>\n",
      "<li class=\"station15 current\"><a href=\"javascript:;\" title=\"板橋站\">板橋站</a><em>20:08</em></li>\n",
      "<li class=\"station20 current\"><a href=\"javascript:;\" title=\"桃園站\">桃園站</a><em>20:21</em></li>\n",
      "<li class=\"station25 current\"><a href=\"javascript:;\" title=\"新竹站\">新竹站</a><em>20:33</em></li>\n",
      "<li class=\"station40 current\"><a href=\"javascript:;\" title=\"台中站\">台中站</a><em>21:01</em></li>\n",
      "<li class=\"station55 current\"><a href=\"javascript:;\" title=\"嘉義站\">嘉義站</a><em>21:26</em></li>\n",
      "<li class=\"station65 current\"><a href=\"javascript:;\" title=\"台南站\">台南站</a><em>21:45</em></li>\n",
      "<li class=\"station75 current\"><a href=\"javascript:;\" title=\"左營站\">左營站</a><em>22:00</em></li>\n",
      "</ul>\n",
      "<h4> </h4>\n",
      "</section>\n",
      "</div>\n",
      "</td>\n",
      "</tr>\n",
      "<tr>\n",
      "<td class=\"toTouch\" colspan=\"4\">\n",
      "<table class=\"touch_table\"><tr>\n",
      "<td class=\"column1\"><a href=\"javascript:;\" title=\"1751\">1751</a></td>\n",
      "<td class=\"column3\">20:18</td>\n",
      "<td class=\"column4\">20:37</td>\n",
      "<td class=\"column2\"></td>\n",
      "</tr>\n",
      "</table>\n",
      "<div class=\"touch_show\">\n",
      "<section class=\"touch_table_info touch_table_info_tw\">\n",
      "<a class=\"touch_close\" href=\"#\" title=\"close\">close</a>\n",
      "<h3><strong>1751 列車 </strong>停靠說明 </h3>\n",
      "<ul>\n",
      "<li class=\"station10 current\"><a href=\"javascript:;\" title=\"台北站\">台北站</a><em>20:18</em></li>\n",
      "<li class=\"station15 current\"><a href=\"javascript:;\" title=\"板橋站\">板橋站</a><em>20:26</em></li>\n",
      "<li class=\"station20 current\"><a href=\"javascript:;\" title=\"桃園站\">桃園站</a><em>20:39</em></li>\n",
      "<li class=\"station25 current\"><a href=\"javascript:;\" title=\"新竹站\">新竹站</a><em>20:51</em></li>\n",
      "<li class=\"station40 current\"><a href=\"javascript:;\" title=\"台中站\">台中站</a><em>21:19</em></li>\n",
      "<li class=\"station55 current\"><a href=\"javascript:;\" title=\"嘉義站\">嘉義站</a><em>21:44</em></li>\n",
      "<li class=\"station65 current\"><a href=\"javascript:;\" title=\"台南站\">台南站</a><em>22:03</em></li>\n",
      "<li class=\"station75 current\"><a href=\"javascript:;\" title=\"左營站\">左營站</a><em>22:18</em></li>\n",
      "</ul>\n",
      "<h4> </h4>\n",
      "</section>\n",
      "</div>\n",
      "</td>\n",
      "</tr>\n",
      "<tr>\n",
      "<td class=\"toTouch\" colspan=\"4\">\n",
      "<table class=\"touch_table\"><tr>\n",
      "<td class=\"column1\"><a href=\"javascript:;\" title=\"0753\">0753</a></td>\n",
      "<td class=\"column3\">20:36</td>\n",
      "<td class=\"column4\">20:55</td>\n",
      "<td class=\"column2\"></td>\n",
      "</tr>\n",
      "</table>\n",
      "<div class=\"touch_show\">\n",
      "<section class=\"touch_table_info touch_table_info_tw\">\n",
      "<a class=\"touch_close\" href=\"#\" title=\"close\">close</a>\n",
      "<h3><strong>0753 列車 </strong>停靠說明 </h3>\n",
      "<ul>\n",
      "<li class=\"station10 current\"><a href=\"javascript:;\" title=\"台北站\">台北站</a><em>20:36</em></li>\n",
      "<li class=\"station15 current\"><a href=\"javascript:;\" title=\"板橋站\">板橋站</a><em>20:44</em></li>\n",
      "<li class=\"station20 current\"><a href=\"javascript:;\" title=\"桃園站\">桃園站</a><em>20:57</em></li>\n",
      "<li class=\"station25 current\"><a href=\"javascript:;\" title=\"新竹站\">新竹站</a><em>21:10</em></li>\n",
      "<li class=\"station40 current\"><a href=\"javascript:;\" title=\"台中站\">台中站</a><em>21:38</em></li>\n",
      "<li class=\"station55 current\"><a href=\"javascript:;\" title=\"嘉義站\">嘉義站</a><em>22:02</em></li>\n",
      "<li class=\"station65 current\"><a href=\"javascript:;\" title=\"台南站\">台南站</a><em>22:21</em></li>\n",
      "<li class=\"station75 current\"><a href=\"javascript:;\" title=\"左營站\">左營站</a><em>22:36</em></li>\n",
      "</ul>\n",
      "<h4> </h4>\n",
      "</section>\n",
      "</div>\n",
      "</td>\n",
      "</tr>\n",
      "</table>\n",
      "</section>]\n"
     ]
    }
   ],
   "source": [
    "import requests\n",
    "from bs4 import BeautifulSoup\n",
    "qoo = {\"StartStation\":\"977abb69-413a-4ccf-a109-0272c24fd490\",\n",
    "\"EndStation\":\"fbd828d8-b1da-4b06-a3bd-680cdca4d2cd\",\n",
    "\"SearchDate\":\"2015/03/13\",\n",
    "\"SearchTime\":\"18:00\",\n",
    "\"SearchWay\":\"DepartureInMandarin\"}\n",
    "res = requests.post(\"http://www.thsrc.com.tw/tw/TimeTable/SearchResult\", data = qoo)\n",
    "soup = BeautifulSoup(res.text)\n",
    "print soup.select(\".result_table\")"
   ]
  },
  {
   "cell_type": "code",
   "execution_count": 186,
   "metadata": {
    "collapsed": true
   },
   "outputs": [],
   "source": [
    "# -*- coding: utf-8 -*- \n",
    "import requests\n",
    "\n",
    "payload = { 'method':'search', 'searchMethod':'true', 'searchTarget':'ATM',\n",
    " 'orgName':'', 'orgId':'', 'hid_1':'1',\n",
    " 'tenderName':'', 'tenderId':'', 'tenderStatus':'4,5,21,29',\n",
    " 'tenderWay':'', 'awardAnnounceStartDate':'103/04/29',\n",
    " 'awardAnnounceEndDate':'103/04/29', 'radProctrgCate':'3', \n",
    " 'proctrgCate':'3', 'tenderRange':'', 'minBudget':'',\n",
    " 'maxBudget':'', 'item':'','hid_2':'1',\n",
    " 'gottenVendorName':'', 'gottenVendorId':'', 'hid_3':'1',\n",
    " 'submitVendorName':'', 'submitVendorId':'', 'location':'',\n",
    " 'priorityCate':'', 'isReConstruct':'', 'btnQuery':'查詢' }"
   ]
  },
  {
   "cell_type": "code",
   "execution_count": 188,
   "metadata": {
    "collapsed": false
   },
   "outputs": [],
   "source": [
    "res = requests.post(\"http://web.pcc.gov.tw/tps/pss/tender.do?searchMode=common&searchType=advance\", data = payload)\n",
    "#print res.text"
   ]
  },
  {
   "cell_type": "code",
   "execution_count": 200,
   "metadata": {
    "collapsed": false
   },
   "outputs": [
    {
     "name": "stdout",
     "output_type": "stream",
     "text": [
      "義美總經理高志明出席國宴遭冷落　孤單一人吃一桌國宴　\n",
      "外交部昨(12)日於圓山飯店舉行國宴，義美總經理高志明受邀出席，入座後卻發現整桌國宴只有自己一人，高志明今日在義美臉書上連結聲明，說這是他吃過最感傷的國宴。...\n",
      "=================================\n",
      "《反分裂國家法》十週年前夕 張志軍：法治推進兩岸關係\n",
      "本月14日為中國制定《反分裂國家法》10週年，中國國台辦主任張志軍13日在中國官方媒體《人民日報》發表專文「運用法治方式紮實推進兩岸關係和平發展」，...\n",
      "=================================\n",
      "150卸任立委回娘家 拱王金平選總統\n",
      "已卸任的立法委員今（13）日回到立法院開會餐敘，由卸任立委組成的「中華民國立法委員協進會」今天上午舉行大會，通過1項臨時動議，...\n",
      "=================================\n",
      "不選了！陳致中下午2時將召開記者會宣布退選\n",
      "前總陳水扁之子陳致中已徵得陳前總統同意，將於今日下午2時在高雄市長陳菊的陪同下宣布退選。\r\n",
      "\r\n",
      "陳致中：各位辛苦，感謝您們不離不棄，無怨無悔，剖腹相挺，...\n",
      "=================================\n",
      "藍營立院前大黨鞭 林鴻池宣布不競選連任\n",
      "國民黨立委林鴻池在去年8月卸任大黨鞭後，今（13）日在臉書上宣布不競選連任立委。林鴻池以傳承和恪盡孝道為由，公開宣布不尋求連任。林鴻池受訪時表示，...\n",
      "=================================\n",
      "卓伯源遭控洗錢 5000萬不明資金流向親友\n",
      "曾是國民黨中生代政治明星的前彰化縣長卓伯源，上月挾卸任縣長光環轉戰立委補選但失利後，現又被爆出任內強徵民地、圖利財團。彰檢查出，卓伯源2姻親帳戶中，...\n",
      "=================================\n",
      "駐台使節粉墨登場 唱歌跳舞秀才藝\n",
      "外交部12日晚間舉行一年一度的駐台使節新春聯歡晚會，多位駐台使節及配偶精心準備才藝表演，大秀平時難得一見的歌唱、舞蹈等才華。...\n",
      "=================================\n",
      "宴請駐台使節 馬驕傲自誇兩岸成果\n",
      "外交部12日晚間舉行駐台使節新春聯歡晚會， 總統馬英九在晚會致辭時，面對200多名駐台使節、代表及我國官員，大談兩岸關係，...\n",
      "=================================\n",
      "時代力量不分區開放i-voting 黃國昌暫時居首\n",
      "由林峯正等人籌組的第三勢力「時代力量」，利用網路i-voting公開讓民眾自行提名理想人選擔任不分區立委，目前共有144位被提名人，...\n",
      "=================================\n",
      "遭影射利益交換 李登輝圖書館中止BOT案\n",
      "李登輝基金會12日下午舉行臨時董事會，決議中止向新北市政府承租淡水公七土地，籌建李登輝總統紀念圖書館的BOT案，基金會將另謀其他方式籌設，並向捐款人說明，...\n",
      "=================================\n",
      "第三勢力成形 綠黨社民黨4月確定合作模式\n",
      "第三勢力政黨「時代力量」與民進黨達成協調區域立委參選人的共識，2016「在野合作模式」露出一線曙光。至於即將成立的社會民主黨以及有選舉經驗的綠黨，...\n",
      "=================================\n",
      "美眾院外委會主席13日訪台 將晤柯文哲\n",
      "美國在台協會（AIT）12日宣佈，美國聯邦眾議院外交委員會主席羅伊斯（Ed Royce）將率跨黨派國會代表團於3月13日至15日訪問台灣。...\n",
      "=================================\n",
      "民調：5成3民眾認為朱習會有助兩岸和平\n",
      "國民黨主席朱立倫日前表態願意訪中，「朱習會」可能性大增，更傳出將在5、6月舉行。遠見民調中心12日公佈最新民調，顯示有53.6%的民眾認為，...\n",
      "=================================\n",
      "毛治國：水情吃緊將衝擊經濟\n",
      "行政院長毛治國12日上午在行政院會聽取「當前經濟情勢」報告，特別針對影響經濟表現的可能因素指出，儘管主計總處預測今年經濟成長率比去年好，...\n",
      "=================================\n",
      "機場捷運年底通車 交通部劇本模擬意外\n",
      "交通部12日在行政院會中報告桃園機場聯外捷運系統建設進度，目前工程已接近完工；為使機捷上路後營運順利，交通部已針對停電、車輛故障等情境研擬劇本，...\n",
      "=================================\n",
      "省下1座核電廠？藍委諷「乾脆把台積電趕出台灣」\n",
      "民進黨主席蔡英文在日本311核災4周年宣示，啟動「省下1座核電廠」計畫，對此，國民黨立委蘇清泉反諷，以核一廠每年發電90億度為例，...\n",
      "=================================\n",
      "扁提條件換「長扁都退」？陳致中否認 \n",
      "前總統陳水扁之子陳致中12日上午於臉書貼文，否認扁曾向民進黨主席蔡英文、前行政院長謝長廷傳達他願退選，但條件是「長扁都退」，...\n",
      "=================================\n",
      "推動非核家園 朱立倫諷綠「不是喊喊口號」\n",
      "日本福島核災屆滿4周年，韓國首爾市長朴元淳喊出「減掉1座核電廠」，民進黨主席蔡英文跟進，要「省下1座核電廠」。國民黨主席朱立倫12日表示，大家可以一起努力，...\n",
      "=================================\n",
      "陳俐潔\n",
      "\n",
      "                  外交部昨(12)日於圓山飯店舉行國宴，義美總經理高志明受邀出席，入座後卻發現整桌國宴只有自己一人，高志明今日在義美臉書上連結聲明，說這是他吃過最感傷的國宴。...\n",
      "                \n",
      "=================================\n",
      "仇佩芬\n",
      "\n",
      "                  本月14日為中國制定《反分裂國家法》10週年，中國國台辦主任張志軍13日在中國官方媒體《人民日報》發表專文「運用法治方式紮實推進兩岸關係和平發展」，...\n",
      "                \n",
      "=================================\n",
      "張文馨\n",
      "\n",
      "                  已卸任的立法委員今（13）日回到立法院開會餐敘，由卸任立委組成的「中華民國立法委員協進會」今天上午舉行大會，通過1項臨時動議，...\n",
      "                \n",
      "=================================\n",
      "蔡慧貞\n",
      "\n",
      "                  前總陳水扁之子陳致中已徵得陳前總統同意，將於今日下午2時在高雄市長陳菊的陪同下宣布退選。\r\n",
      "\r\n",
      "陳致中：各位辛苦，感謝您們不離不棄，無怨無悔，剖腹相挺，...\n",
      "                \n",
      "=================================\n",
      "張文馨 杜兆倫\n",
      "\n",
      "                  國民黨立委林鴻池在去年8月卸任大黨鞭後，今（13）日在臉書上宣布不競選連任立委。林鴻池以傳承和恪盡孝道為由，公開宣布不尋求連任。林鴻池受訪時表示，...\n",
      "                \n",
      "=================================\n",
      "周怡孜\n",
      "\n",
      "                  曾是國民黨中生代政治明星的前彰化縣長卓伯源，上月挾卸任縣長光環轉戰立委補選但失利後，現又被爆出任內強徵民地、圖利財團。彰檢查出，卓伯源2姻親帳戶中，...\n",
      "                \n",
      "=================================\n",
      "仇佩芬\n",
      "\n",
      "                  外交部12日晚間舉行一年一度的駐台使節新春聯歡晚會，多位駐台使節及配偶精心準備才藝表演，大秀平時難得一見的歌唱、舞蹈等才華。...\n",
      "                \n",
      "=================================\n",
      "仇佩芬\n",
      "\n",
      "                  外交部12日晚間舉行駐台使節新春聯歡晚會， 總統馬英九在晚會致辭時，面對200多名駐台使節、代表及我國官員，大談兩岸關係，...\n",
      "                \n",
      "=================================\n",
      "杜兆倫\n",
      "\n",
      "                  由林峯正等人籌組的第三勢力「時代力量」，利用網路i-voting公開讓民眾自行提名理想人選擔任不分區立委，目前共有144位被提名人，...\n",
      "                \n",
      "=================================\n",
      "顏振凱\n",
      "\n",
      "                  李登輝基金會12日下午舉行臨時董事會，決議中止向新北市政府承租淡水公七土地，籌建李登輝總統紀念圖書館的BOT案，基金會將另謀其他方式籌設，並向捐款人說明，...\n",
      "                \n",
      "=================================\n",
      "林瑋豐\n",
      "\n",
      "                  第三勢力政黨「時代力量」與民進黨達成協調區域立委參選人的共識，2016「在野合作模式」露出一線曙光。至於即將成立的社會民主黨以及有選舉經驗的綠黨，...\n",
      "                \n",
      "=================================\n",
      "仇佩芬\n",
      "\n",
      "                  美國在台協會（AIT）12日宣佈，美國聯邦眾議院外交委員會主席羅伊斯（Ed Royce）將率跨黨派國會代表團於3月13日至15日訪問台灣。...\n",
      "                \n",
      "=================================\n",
      "仇佩芬\n",
      "\n",
      "                  國民黨主席朱立倫日前表態願意訪中，「朱習會」可能性大增，更傳出將在5、6月舉行。遠見民調中心12日公佈最新民調，顯示有53.6%的民眾認為，...\n",
      "                \n",
      "=================================\n",
      "仇佩芬\n",
      "\n",
      "                  行政院長毛治國12日上午在行政院會聽取「當前經濟情勢」報告，特別針對影響經濟表現的可能因素指出，儘管主計總處預測今年經濟成長率比去年好，...\n",
      "                \n",
      "=================================\n",
      "仇佩芬\n",
      "\n",
      "                  交通部12日在行政院會中報告桃園機場聯外捷運系統建設進度，目前工程已接近完工；為使機捷上路後營運順利，交通部已針對停電、車輛故障等情境研擬劇本，...\n",
      "                \n",
      "=================================\n",
      "張文馨\n",
      "\n",
      "                  民進黨主席蔡英文在日本311核災4周年宣示，啟動「省下1座核電廠」計畫，對此，國民黨立委蘇清泉反諷，以核一廠每年發電90億度為例，...\n",
      "                \n",
      "=================================\n",
      "顏振凱\n",
      "\n",
      "                  前總統陳水扁之子陳致中12日上午於臉書貼文，否認扁曾向民進黨主席蔡英文、前行政院長謝長廷傳達他願退選，但條件是「長扁都退」，...\n",
      "                \n",
      "=================================\n",
      "羅暐智\n",
      "\n",
      "                  日本福島核災屆滿4周年，韓國首爾市長朴元淳喊出「減掉1座核電廠」，民進黨主席蔡英文跟進，要「省下1座核電廠」。國民黨主席朱立倫12日表示，大家可以一起努力，...\n",
      "                \n",
      "=================================\n"
     ]
    }
   ],
   "source": [
    "import requests\n",
    "from bs4 import BeautifulSoup\n",
    "res = requests.get(\"http://www.storm.mg/category/118\")\n",
    "#print res.text\n",
    "soup = BeautifulSoup(res.text)\n",
    "articles = soup.select(\".main_content\")\n",
    "for entry in articles:\n",
    "    print entry.select(\".gtm-article-list-news\")[1].text\n",
    "    print entry.select(\".main_brief\")[0].text\n",
    "    print \"=================================\"\n",
    "    "
   ]
  },
  {
   "cell_type": "code",
   "execution_count": null,
   "metadata": {
    "collapsed": true
   },
   "outputs": [],
   "source": []
  }
 ],
 "metadata": {
  "kernelspec": {
   "display_name": "Python 2",
   "language": "python",
   "name": "python2"
  },
  "language_info": {
   "codemirror_mode": {
    "name": "ipython",
    "version": 2
   },
   "file_extension": ".py",
   "mimetype": "text/x-python",
   "name": "python",
   "nbconvert_exporter": "python",
   "pygments_lexer": "ipython2",
   "version": "2.7.3"
  }
 },
 "nbformat": 4,
 "nbformat_minor": 0
}

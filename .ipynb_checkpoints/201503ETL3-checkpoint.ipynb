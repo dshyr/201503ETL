{
 "cells": [
  {
   "cell_type": "code",
   "execution_count": 13,
   "metadata": {
    "collapsed": false
   },
   "outputs": [],
   "source": [
    "import requests\n",
    "res = requests.get(\"http://www.google.com.tw\")\n",
    "#print res.text"
   ]
  },
  {
   "cell_type": "code",
   "execution_count": 2,
   "metadata": {
    "collapsed": false
   },
   "outputs": [
    {
     "name": "stdout",
     "output_type": "stream",
     "text": [
      "val\n"
     ]
    }
   ],
   "source": [
    "import requests\n",
    "payload = {\"key\":\"val\"}\n",
    "print payload[\"key\"]"
   ]
  },
  {
   "cell_type": "code",
   "execution_count": 4,
   "metadata": {
    "collapsed": false
   },
   "outputs": [],
   "source": [
    "import requests\n",
    "payload = { 'method':'search', 'searchMethod':'true', 'searchTarget':'ATM',\n",
    " 'orgName':'', 'orgId':'', 'hid_1':'1',\n",
    " 'tenderName':'', 'tenderId':'', 'tenderStatus':'4,5,21,29',\n",
    " 'tenderWay':'', 'awardAnnounceStartDate':'103/04/29',\n",
    " 'awardAnnounceEndDate':'103/04/29', 'radProctrgCate':'3', \n",
    " 'proctrgCate':'3', 'tenderRange':'', 'minBudget':'',\n",
    " 'maxBudget':'', 'item':'','hid_2':'1',\n",
    " 'gottenVendorName':'', 'gottenVendorId':'', 'hid_3':'1',\n",
    " 'submitVendorName':'', 'submitVendorId':'', 'location':'',\n",
    " 'priorityCate':'', 'isReConstruct':'', 'btnQuery':'查詢' }\n",
    "res = requests.post('http://web.pcc.gov.tw/tps/pss/tender.do?searchMode=common&searchType=advance', data=payload)\n",
    "#print res.text\n"
   ]
  },
  {
   "cell_type": "code",
   "execution_count": 5,
   "metadata": {
    "collapsed": true
   },
   "outputs": [],
   "source": [
    "pagenum = 265 / 100"
   ]
  },
  {
   "cell_type": "code",
   "execution_count": 6,
   "metadata": {
    "collapsed": false
   },
   "outputs": [
    {
     "data": {
      "text/plain": [
       "2"
      ]
     },
     "execution_count": 6,
     "metadata": {},
     "output_type": "execute_result"
    }
   ],
   "source": [
    "pagenum"
   ]
  },
  {
   "cell_type": "code",
   "execution_count": 7,
   "metadata": {
    "collapsed": false
   },
   "outputs": [
    {
     "data": {
      "text/plain": [
       "['__doc__',\n",
       " '__name__',\n",
       " '__package__',\n",
       " 'acos',\n",
       " 'acosh',\n",
       " 'asin',\n",
       " 'asinh',\n",
       " 'atan',\n",
       " 'atan2',\n",
       " 'atanh',\n",
       " 'ceil',\n",
       " 'copysign',\n",
       " 'cos',\n",
       " 'cosh',\n",
       " 'degrees',\n",
       " 'e',\n",
       " 'erf',\n",
       " 'erfc',\n",
       " 'exp',\n",
       " 'expm1',\n",
       " 'fabs',\n",
       " 'factorial',\n",
       " 'floor',\n",
       " 'fmod',\n",
       " 'frexp',\n",
       " 'fsum',\n",
       " 'gamma',\n",
       " 'hypot',\n",
       " 'isinf',\n",
       " 'isnan',\n",
       " 'ldexp',\n",
       " 'lgamma',\n",
       " 'log',\n",
       " 'log10',\n",
       " 'log1p',\n",
       " 'modf',\n",
       " 'pi',\n",
       " 'pow',\n",
       " 'radians',\n",
       " 'sin',\n",
       " 'sinh',\n",
       " 'sqrt',\n",
       " 'tan',\n",
       " 'tanh',\n",
       " 'trunc']"
      ]
     },
     "execution_count": 7,
     "metadata": {},
     "output_type": "execute_result"
    }
   ],
   "source": [
    "import math\n",
    "dir(math)"
   ]
  },
  {
   "cell_type": "code",
   "execution_count": 8,
   "metadata": {
    "collapsed": false
   },
   "outputs": [
    {
     "name": "stdout",
     "output_type": "stream",
     "text": [
      "2.65\n"
     ]
    }
   ],
   "source": [
    "print (265 * 1.0) / 100 "
   ]
  },
  {
   "cell_type": "code",
   "execution_count": 10,
   "metadata": {
    "collapsed": false
   },
   "outputs": [
    {
     "name": "stdout",
     "output_type": "stream",
     "text": [
      "Help on built-in function ceil in module math:\n",
      "\n",
      "ceil(...)\n",
      "    ceil(x)\n",
      "    \n",
      "    Return the ceiling of x as a float.\n",
      "    This is the smallest integral value >= x.\n",
      "\n",
      "3.0\n"
     ]
    }
   ],
   "source": [
    "help(math.ceil)\n",
    "print math.ceil((265 * 1.0) / 100 )"
   ]
  },
  {
   "cell_type": "code",
   "execution_count": 12,
   "metadata": {
    "collapsed": false
   },
   "outputs": [],
   "source": [
    "import requests\n",
    "rs_get = requests.get(\"http://web.pcc.gov.tw/tps/pss/tender.do?searchMode=common&searchType=advance&searchTarget=ATM&method=search&isSpdt=&pageIndex=2\")\n",
    "#print rs_get.text\n"
   ]
  },
  {
   "cell_type": "code",
   "execution_count": 16,
   "metadata": {
    "collapsed": false
   },
   "outputs": [],
   "source": [
    "import requests\n",
    "rs = requests.session()\n",
    "res = rs.post('http://web.pcc.gov.tw/tps/pss/tender.do?searchMode=common&searchType=advance', data=payload)\n",
    "res2 = rs.get(\"http://web.pcc.gov.tw/tps/pss/tender.do?searchMode=common&searchType=advance&searchTarget=ATM&method=search&isSpdt=&pageIndex=2\")\n",
    "#print res2.text"
   ]
  },
  {
   "cell_type": "code",
   "execution_count": 18,
   "metadata": {
    "collapsed": false
   },
   "outputs": [],
   "source": [
    "import requests\n",
    "res = requests.get(\"http://twtraffic.tra.gov.tw/twrail/SearchResult.aspx?searchtype=0&searchdate=2015/03/18&fromstation=1810&tostation=1809&trainclass=%271100%27,%271101%27,%271102%27,%271107%27,%271110%27,%271120%27&fromtime=0600&totime=2359\")\n",
    "#print res.text"
   ]
  },
  {
   "cell_type": "code",
   "execution_count": 20,
   "metadata": {
    "collapsed": false
   },
   "outputs": [],
   "source": [
    "import requests\n",
    "qoo = {\n",
    "'StartStation':'977abb69-413a-4ccf-a109-0272c24fd490',\n",
    "'EndStation':'fbd828d8-b1da-4b06-a3bd-680cdca4d2cd',\n",
    "'SearchDate':'2015/03/18',\n",
    "'SearchTime':'10:30',\n",
    "'SearchWay':'DepartureInMandarin'\n",
    "}\n",
    "res = requests.post('http://www.thsrc.com.tw/tw/TimeTable/SearchResult', data=qoo)\n",
    "#print res.text"
   ]
  },
  {
   "cell_type": "code",
   "execution_count": 50,
   "metadata": {
    "collapsed": false
   },
   "outputs": [
    {
     "name": "stdout",
     "output_type": "stream",
     "text": [
      "【義賣】柴犬MARU 感謝你的愛 - 義賣限定版明信片組 (12張入)\n",
      "潘裕文《永不結束的馬拉松》 公益合作 簽名單曲\n",
      "Bon Bon Stickers 妃炫少女 全身少女22入澎湃組\n",
      "好日推好物商品：一次收藏組：女孩叄拾明信片書＋貼紙\n",
      "宇宙小貓們 ! galaxy cat !(一對入)  手作耳針-不過敏鋼針/可改夾式-旋轉可調鬆緊\n",
      "女孩叄拾貼紙組 30張入\n",
      "YIZISTORE 半圓口金包 小挎包 收納包\n",
      "小孩市集獨立誌#05 - 一起練習組（練習紙膠帶 + 明信片）\n",
      "YIZISTORE 半圓零錢包 化妝包 收納包\n",
      "好日推好物商品：後背包＿藍黑\n",
      "❛巧克力包裹❜12片入(一盒)\n",
      "甜蜜生活2015版萬年曆圖案貼紙組 九張入\n",
      "【限時免運】無所事事慵懶貓／牛仔鬚鬚漁夫帽\n",
      "女牛仔褲 SKINNY JEANS\n",
      "雞排+芒果冰 英文版 明信片組(兩入) 小白襪 歪國人愛台味\n"
     ]
    }
   ],
   "source": [
    "import requests\n",
    "import re\n",
    "import json\n",
    "res = requests.get(\"http://www.pinkoi.com/browse\")\n",
    "ele = re.search(\"pinkoi.browse.renderHighlight\\('#hightlight', (.*)\\);\", res.text)\n",
    "#ele = re.search(\"pinkoi.browse.renderHighlight\\('#hightlight', (.*)\\);\", res.text)\n",
    "jele = json.loads(ele.group().split(\"#hightlight', \")[1].split(');')[0])\n",
    "for item in jele:\n",
    "    print item['title']\n",
    " "
   ]
  },
  {
   "cell_type": "code",
   "execution_count": null,
   "metadata": {
    "collapsed": true
   },
   "outputs": [],
   "source": []
  }
 ],
 "metadata": {
  "kernelspec": {
   "display_name": "Python 2",
   "language": "python",
   "name": "python2"
  },
  "language_info": {
   "codemirror_mode": {
    "name": "ipython",
    "version": 2
   },
   "file_extension": ".py",
   "mimetype": "text/x-python",
   "name": "python",
   "nbconvert_exporter": "python",
   "pygments_lexer": "ipython2",
   "version": "2.7.3"
  }
 },
 "nbformat": 4,
 "nbformat_minor": 0
}

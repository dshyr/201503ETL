{
 "cells": [
  {
   "cell_type": "code",
   "execution_count": 1,
   "metadata": {
    "collapsed": false
   },
   "outputs": [
    {
     "name": "stdout",
     "output_type": "stream",
     "text": [
      "5\n",
      "<type 'int'>\n"
     ]
    }
   ],
   "source": [
    "def addNum(a, b):#Define Function\n",
    "    return a+b #Return function \n",
    "\n",
    "c =  addNum(1,4)\n",
    "print c\n",
    "print type(c)"
   ]
  },
  {
   "cell_type": "code",
   "execution_count": 2,
   "metadata": {
    "collapsed": false
   },
   "outputs": [
    {
     "data": {
      "text/plain": [
       "(set(), {1, 2}, {1, 2})"
      ]
     },
     "execution_count": 2,
     "metadata": {},
     "output_type": "execute_result"
    }
   ],
   "source": [
    "set(), set([1, 2]), set([2, 1]),\n"
   ]
  },
  {
   "cell_type": "code",
   "execution_count": 7,
   "metadata": {
    "collapsed": false
   },
   "outputs": [
    {
     "name": "stdout",
     "output_type": "stream",
     "text": [
      "set([0, 1, 2, 3, 4])\n",
      "set([4, 5, 6, 7, 8, 9])\n",
      "set([0, 1, 2, 3])\n",
      "set([1, 2])\n",
      "set([3, 4])\n",
      "set([1, 2, 3, 4])\n",
      "set([1, 2, 3, 4, 5])\n"
     ]
    }
   ],
   "source": [
    "set((2, 1)), set(range(0,5)) - set(range(4,10)),\\\n",
    "#set([1, 2]) | set([3, 4])\n",
    "print set(range(0,5))\n",
    "print  set(range(4,10))\n",
    "print set(range(0,5)) - set(range(4,10))\n",
    "print set([1,2])\n",
    "print set([3,4])\n",
    "print set([1, 2]) | set([3, 4])\n",
    "print set([1, 2]) | set([3, 4]) | set([2, 5]) \n"
   ]
  },
  {
   "cell_type": "code",
   "execution_count": 10,
   "metadata": {
    "collapsed": false
   },
   "outputs": [
    {
     "name": "stdout",
     "output_type": "stream",
     "text": [
      "x [1]\n",
      "args ()\n"
     ]
    },
    {
     "data": {
      "text/plain": [
       "{1}"
      ]
     },
     "execution_count": 10,
     "metadata": {},
     "output_type": "execute_result"
    }
   ],
   "source": [
    "def myunion(x, *args):\n",
    "    print \"x\", x\n",
    "    print \"args\",args\n",
    "    u = set(x)\n",
    "    for y in args:\n",
    "        print \"y\", y\n",
    "        u = u.union(set(y))\n",
    "    return u\n",
    "\n",
    "myunion([1])\n",
    "\n"
   ]
  },
  {
   "cell_type": "code",
   "execution_count": 11,
   "metadata": {
    "collapsed": false
   },
   "outputs": [
    {
     "name": "stdout",
     "output_type": "stream",
     "text": [
      "x [1]\n",
      "args ([1, 2, 4], [3, 4])\n",
      "y [1, 2, 4]\n",
      "y [3, 4]\n"
     ]
    },
    {
     "data": {
      "text/plain": [
       "{1, 2, 3, 4}"
      ]
     },
     "execution_count": 11,
     "metadata": {},
     "output_type": "execute_result"
    }
   ],
   "source": [
    "myunion([1], [1, 2, 4], [3, 4])"
   ]
  },
  {
   "cell_type": "code",
   "execution_count": 12,
   "metadata": {
    "collapsed": false
   },
   "outputs": [
    {
     "name": "stdout",
     "output_type": "stream",
     "text": [
      "x [1]\n",
      "args ([1, 2, 4], [3, 4], [2, 5])\n",
      "y [1, 2, 4]\n",
      "y [3, 4]\n",
      "y [2, 5]\n"
     ]
    },
    {
     "data": {
      "text/plain": [
       "{1, 2, 3, 4, 5}"
      ]
     },
     "execution_count": 12,
     "metadata": {},
     "output_type": "execute_result"
    }
   ],
   "source": [
    "myunion([1], [1, 2, 4], [3, 4], [2,5])"
   ]
  },
  {
   "cell_type": "code",
   "execution_count": 13,
   "metadata": {
    "collapsed": false
   },
   "outputs": [
    {
     "name": "stdout",
     "output_type": "stream",
     "text": [
      "x ['the']\n",
      "key stop\n",
      "union set(['the', 'stop'])\n",
      "key halt\n",
      "set(['the', 'stop'])\n"
     ]
    }
   ],
   "source": [
    "def my_key_union(x, **kwargs):\n",
    "    print \"x\", x\n",
    "    union = set(x)\n",
    "    for key, value in kwargs.items():\n",
    "        print \"key\", key\n",
    "        if value:\n",
    "            union.add(key)\n",
    "            print \"union\", union\n",
    "    return union\n",
    "\n",
    "print my_key_union(['the'], stop=True, halt=False)"
   ]
  },
  {
   "cell_type": "code",
   "execution_count": 14,
   "metadata": {
    "collapsed": false
   },
   "outputs": [
    {
     "name": "stdout",
     "output_type": "stream",
     "text": [
      "x ['the']\n",
      "key stop\n",
      "union set(['the', 'stop'])\n",
      "key halt\n",
      "union set(['the', 'stop', 'halt'])\n",
      "set(['the', 'stop', 'halt'])\n"
     ]
    }
   ],
   "source": [
    "print my_key_union(['the'], stop=True, halt=True)"
   ]
  },
  {
   "cell_type": "code",
   "execution_count": 15,
   "metadata": {
    "collapsed": false
   },
   "outputs": [
    {
     "name": "stdout",
     "output_type": "stream",
     "text": [
      "The result is 0.000000\n"
     ]
    }
   ],
   "source": [
    "import math, sys # Importing modules.\n",
    "\n",
    "def formatresult(res): # Define function. Remember \":\"\n",
    "    \"\"\"This is the documentation for a function.\"\"\"\n",
    "    return \"The result is %f\" % res # Percentage for formating\n",
    "\n",
    "if len(sys.argv) < 3: # Conditionals should be indended\n",
    "    print(\"Too few input argument\")\n",
    "elif len(sys.argv) > 10: # Not 'elsif' or 'elseif'\n",
    "    print(\"Too many input argument\")\n",
    "else:\n",
    "    res = 0\n",
    "    for n in range(1, len(sys.argv)): \n",
    "        try: res += float(sys.argv[n]) \n",
    "        except: pass # One-liner\n",
    "    print(formatresult(res))"
   ]
  },
  {
   "cell_type": "code",
   "execution_count": 18,
   "metadata": {
    "collapsed": false
   },
   "outputs": [
    {
     "name": "stdout",
     "output_type": "stream",
     "text": [
      "['C:\\\\Python27\\\\lib\\\\site-packages\\\\IPython\\\\kernel\\\\__main__.py', '-f', 'C:\\\\Users\\\\david\\\\.ipython\\\\profile_default\\\\security\\\\kernel-8da9624b-aaf8-4468-a1fc-74b9d57b5d1e.json', '--profile-dir', 'C:\\\\Users\\\\david\\\\.ipython\\\\profile_default']\n",
      "5\n"
     ]
    }
   ],
   "source": [
    "import sys\n",
    "print sys.argv\n",
    "print len(sys.argv)"
   ]
  },
  {
   "cell_type": "code",
   "execution_count": 19,
   "metadata": {
    "collapsed": false
   },
   "outputs": [
    {
     "name": "stdout",
     "output_type": "stream",
     "text": [
      "['C:\\\\Python27\\\\lib\\\\site-packages\\\\IPython\\\\kernel\\\\__main__.py', '-f', 'C:\\\\Users\\\\david\\\\.ipython\\\\profile_default\\\\security\\\\kernel-8da9624b-aaf8-4468-a1fc-74b9d57b5d1e.json', '--profile-dir', 'C:\\\\Users\\\\david\\\\.ipython\\\\profile_default']\n",
      "The result is 0.000000\n"
     ]
    }
   ],
   "source": [
    "#test.py\n",
    "import math, sys # Importing modules.\n",
    "\n",
    "def formatresult(res): # Define function. Remember \":\"\n",
    "    \"\"\"This is the documentation for a function.\"\"\"\n",
    "    return \"The result is %f\" % res # Percentage for formating\n",
    "print sys.argv\n",
    "if len(sys.argv) < 3: # Conditionals should be indended\n",
    "    print(\"Too few input argument\")\n",
    "elif len(sys.argv) > 10: # Not 'elsif' or 'elseif'\n",
    "    print(\"Too many input argument\")\n",
    "else: \n",
    "    res = 0\n",
    "    for n in range(1, len(sys.argv)): \n",
    "        try: res += float(sys.argv[n]) \n",
    "        except: pass # One-liner\n",
    "    print(formatresult(res))"
   ]
  },
  {
   "cell_type": "code",
   "execution_count": 22,
   "metadata": {
    "collapsed": false
   },
   "outputs": [
    {
     "name": "stdout",
     "output_type": "stream",
     "text": [
      "4.0\n"
     ]
    }
   ],
   "source": [
    "import math\n",
    "#dir(math)\n",
    "#help(math)\n",
    "a = math.ceil(3.6)\n",
    "print a \n"
   ]
  },
  {
   "cell_type": "code",
   "execution_count": 27,
   "metadata": {
    "collapsed": false
   },
   "outputs": [
    {
     "name": "stdout",
     "output_type": "stream",
     "text": [
      "<module 'math' (built-in)>\n",
      "<module 'requests' from 'C:\\Python27\\lib\\site-packages\\requests\\__init__.pyc'>\n",
      "['C:\\\\Python27\\\\lib\\\\site-packages\\\\IPython\\\\kernel\\\\__main__.py', '-f', 'C:\\\\Users\\\\david\\\\.ipython\\\\profile_default\\\\security\\\\kernel-8da9624b-aaf8-4468-a1fc-74b9d57b5d1e.json', '--profile-dir', 'C:\\\\Users\\\\david\\\\.ipython\\\\profile_default']\n",
      "5\n",
      "[1, 2, 3, 4]\n"
     ]
    }
   ],
   "source": [
    "import math #Importing Modules\n",
    "print math #Print Content\n",
    "import requests\n",
    "print requests\n",
    "import sys #Importing Modules\n",
    "print(sys.argv) #Print Argument\n",
    "print len(sys.argv)\n",
    "print range(1,len(sys.argv))\n"
   ]
  },
  {
   "cell_type": "code",
   "execution_count": null,
   "metadata": {
    "collapsed": true
   },
   "outputs": [],
   "source": []
  }
 ],
 "metadata": {
  "kernelspec": {
   "display_name": "Python 2",
   "language": "python",
   "name": "python2"
  },
  "language_info": {
   "codemirror_mode": {
    "name": "ipython",
    "version": 2
   },
   "file_extension": ".py",
   "mimetype": "text/x-python",
   "name": "python",
   "nbconvert_exporter": "python",
   "pygments_lexer": "ipython2",
   "version": "2.7.3"
  }
 },
 "nbformat": 4,
 "nbformat_minor": 0
}

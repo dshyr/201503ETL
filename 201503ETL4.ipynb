{
 "cells": [
  {
   "cell_type": "code",
   "execution_count": 3,
   "metadata": {
    "collapsed": false
   },
   "outputs": [],
   "source": [
    "# -*- coding: utf-8 -*- \n",
    "from bs4 import BeautifulSoup \n",
    "f = open('51081295_102-0400-1-051.txt', 'r') \n",
    "response_text = f.read() \n",
    "soup = BeautifulSoup(response_text) \n",
    "f.close()\n"
   ]
  },
  {
   "cell_type": "code",
   "execution_count": 5,
   "metadata": {
    "collapsed": false
   },
   "outputs": [],
   "source": [
    "soup = BeautifulSoup(''.join(response_text)) \n",
    "tr = soup.findAll('tr') \n",
    "#for row in tr: \n",
    "#    print row.find('th')"
   ]
  },
  {
   "cell_type": "code",
   "execution_count": 6,
   "metadata": {
    "collapsed": false
   },
   "outputs": [
    {
     "name": "stdout",
     "output_type": "stream",
     "text": [
      "3.7.74.37\n",
      "臺灣菸酒股份有限公司隆田酒廠\n",
      "720臺南市官田區隆本里中華路一段335號\n"
     ]
    }
   ],
   "source": [
    "dic = {\"機關代碼\":\"\", \"機關名稱\":\"\", \"機關地址\":\"\"} \n",
    "for row in tr: \n",
    "    th = row.find('th') \n",
    "    if th is not None: \n",
    "        if th.text.encode('utf-8').strip() in dic: \n",
    "            print row.find('td').text.strip()\n"
   ]
  },
  {
   "cell_type": "code",
   "execution_count": 15,
   "metadata": {
    "collapsed": false
   },
   "outputs": [
    {
     "name": "stdout",
     "output_type": "stream",
     "text": [
      "\n",
      "     標的分類\n",
      "     \n",
      "     <財物類>    \n",
      "\n",
      "                            32\n",
      "\n",
      "                            紙漿,紙及紙產品;印刷品及相關的商品\n",
      "    \n",
      "標的分類 \n"
     ]
    }
   ],
   "source": [
    "dic = {\"標的分類\":\"\"} \n",
    "for row in tr: \n",
    "    th = row.find('th') \n",
    "    if th is not None: \n",
    "        if th.text.encode('utf-8').strip() in dic: \n",
    "            dic[th.text.encode('utf-8')] = row.find('td').text.encode('utf-8') \n",
    "for rec in dic: \n",
    "    print rec, dic[rec]\n"
   ]
  },
  {
   "cell_type": "code",
   "execution_count": 9,
   "metadata": {
    "collapsed": false
   },
   "outputs": [
    {
     "name": "stdout",
     "output_type": "stream",
     "text": [
      "\t\t string \n",
      "\t\n",
      "'\\t\\t string \\n\\t'\n"
     ]
    }
   ],
   "source": [
    "a = '\\t\\t string \\n\\t' \n",
    "print a \n",
    "print repr(a)"
   ]
  },
  {
   "cell_type": "code",
   "execution_count": 10,
   "metadata": {
    "collapsed": false
   },
   "outputs": [
    {
     "name": "stdout",
     "output_type": "stream",
     "text": [
      "\t\n",
      "qoo\n",
      "qoo\t\n",
      "qoo\n"
     ]
    }
   ],
   "source": [
    "b = '\\t\\nqoo\\nqoo\\t\\nqoo'\n",
    "print b"
   ]
  },
  {
   "cell_type": "code",
   "execution_count": 11,
   "metadata": {
    "collapsed": false
   },
   "outputs": [
    {
     "name": "stdout",
     "output_type": "stream",
     "text": [
      "'\\t\\nqoo\\nqoo\\t\\nqoo'\n"
     ]
    }
   ],
   "source": [
    "print repr(b)"
   ]
  },
  {
   "cell_type": "code",
   "execution_count": 17,
   "metadata": {
    "collapsed": false
   },
   "outputs": [
    {
     "name": "stdout",
     "output_type": "stream",
     "text": [
      "{'\\n     \\xe6\\xa8\\x99\\xe7\\x9a\\x84\\xe5\\x88\\x86\\xe9\\xa1\\x9e\\n    ': '\\n     <\\xe8\\xb2\\xa1\\xe7\\x89\\xa9\\xe9\\xa1\\x9e>    \\n\\n                            32\\n\\n                            \\xe7\\xb4\\x99\\xe6\\xbc\\xbf,\\xe7\\xb4\\x99\\xe5\\x8f\\x8a\\xe7\\xb4\\x99\\xe7\\x94\\xa2\\xe5\\x93\\x81;\\xe5\\x8d\\xb0\\xe5\\x88\\xb7\\xe5\\x93\\x81\\xe5\\x8f\\x8a\\xe7\\x9b\\xb8\\xe9\\x97\\x9c\\xe7\\x9a\\x84\\xe5\\x95\\x86\\xe5\\x93\\x81\\n    ', '\\xe6\\xa8\\x99\\xe7\\x9a\\x84\\xe5\\x88\\x86\\xe9\\xa1\\x9e': ''}\n",
      "\n",
      "     標的分類\n",
      "     \n",
      "     <財物類>    \n",
      "\n",
      "                            32\n",
      "\n",
      "                            紙漿,紙及紙產品;印刷品及相關的商品\n",
      "    \n",
      "\n",
      "     標的分類\n",
      "     '\\n     <\\xe8\\xb2\\xa1\\xe7\\x89\\xa9\\xe9\\xa1\\x9e>    \\n\\n                            32\\n\\n                            \\xe7\\xb4\\x99\\xe6\\xbc\\xbf,\\xe7\\xb4\\x99\\xe5\\x8f\\x8a\\xe7\\xb4\\x99\\xe7\\x94\\xa2\\xe5\\x93\\x81;\\xe5\\x8d\\xb0\\xe5\\x88\\xb7\\xe5\\x93\\x81\\xe5\\x8f\\x8a\\xe7\\x9b\\xb8\\xe9\\x97\\x9c\\xe7\\x9a\\x84\\xe5\\x95\\x86\\xe5\\x93\\x81\\n    '\n",
      "標的分類 \n",
      "標的分類 ''\n"
     ]
    }
   ],
   "source": [
    "print dic\n",
    "for item in dic:\n",
    "    print item, dic[item]\n",
    "    print item, repr(dic[item])"
   ]
  },
  {
   "cell_type": "code",
   "execution_count": 24,
   "metadata": {
    "collapsed": false
   },
   "outputs": [
    {
     "name": "stdout",
     "output_type": "stream",
     "text": [
      "['123', '555', '111', '99']\n",
      "['123', '555,111,99']\n",
      "['123', '555', '111,99']\n",
      "['http:', '', 'nbviewer.ipython.org', 'github/ywchiu/201503ETL/blob/master/201503ETL.ipynb']\n",
      "nbviewer.ipython.org\n"
     ]
    }
   ],
   "source": [
    "a = '123,555,111,99' \n",
    "print a.split(',') \n",
    "print a.split(',',1) \n",
    "print a.split(',',2) \n",
    "url = \"http://nbviewer.ipython.org/github/ywchiu/201503ETL/blob/master/201503ETL.ipynb\"\n",
    "print url.split('/', 3)\n",
    "\n",
    "# get hostname\n",
    "hostname = url.split('/',3)[2]\n",
    "print hostname"
   ]
  },
  {
   "cell_type": "code",
   "execution_count": 32,
   "metadata": {
    "collapsed": false
   },
   "outputs": [
    {
     "name": "stdout",
     "output_type": "stream",
     "text": [
      "['123', '555', '111', '99']\n",
      "123|555|111|99\n",
      "123@555@111@99\n",
      "12355511199\n",
      "['1', '000', '000']\n",
      "1000000\n",
      "3000000\n"
     ]
    }
   ],
   "source": [
    "a = '123,555,111,99' \n",
    "ary = a.split(',') \n",
    "print ary\n",
    "print '|'.join(ary)\n",
    "print '@'.join(ary)\n",
    "print ''.join(ary)\n",
    "\n",
    "# use split and join to change string currency to integer type\n",
    "money = '1,000,000'\n",
    "print money.split(',')\n",
    "print ''.join(money.split(','))\n",
    "print int(''.join(money.split(','))) + 2000000"
   ]
  },
  {
   "cell_type": "code",
   "execution_count": 35,
   "metadata": {
    "collapsed": false
   },
   "outputs": [
    {
     "name": "stdout",
     "output_type": "stream",
     "text": [
      "{'\\n     \\xe6\\xa8\\x99\\xe7\\x9a\\x84\\xe5\\x88\\x86\\xe9\\xa1\\x9e\\n    ': '\\n     <\\xe8\\xb2\\xa1\\xe7\\x89\\xa9\\xe9\\xa1\\x9e>    \\n\\n                            32\\n\\n                            \\xe7\\xb4\\x99\\xe6\\xbc\\xbf,\\xe7\\xb4\\x99\\xe5\\x8f\\x8a\\xe7\\xb4\\x99\\xe7\\x94\\xa2\\xe5\\x93\\x81;\\xe5\\x8d\\xb0\\xe5\\x88\\xb7\\xe5\\x93\\x81\\xe5\\x8f\\x8a\\xe7\\x9b\\xb8\\xe9\\x97\\x9c\\xe7\\x9a\\x84\\xe5\\x95\\x86\\xe5\\x93\\x81\\n    ', '\\xe6\\xa8\\x99\\xe7\\x9a\\x84\\xe5\\x88\\x86\\xe9\\xa1\\x9e': ''}\n",
      "\n",
      "     標的分類\n",
      "     <財物類>32紙漿,紙及紙產品;印刷品及相關的商品\n",
      "標的分類 \n"
     ]
    }
   ],
   "source": [
    "print dic\n",
    "for item in dic:\n",
    "    print item, ''.join(dic[item].split())\n",
    "    #print item, repr(dic[item])"
   ]
  },
  {
   "cell_type": "code",
   "execution_count": 38,
   "metadata": {
    "collapsed": false
   },
   "outputs": [
    {
     "name": "stdout",
     "output_type": "stream",
     "text": [
      "2015-03-27\n",
      "2014-05-03 14:00:00\n"
     ]
    }
   ],
   "source": [
    "# from time to string\n",
    "from datetime import date,datetime \n",
    "currenttime = datetime.now() \n",
    "print currenttime.strftime(\"%Y-%m-%d\") \n",
    "\n",
    "# from string to time\n",
    "a = '2014-05-03 14:00' \n",
    "print datetime.strptime(a, \"%Y-%m-%d %H:%M\")"
   ]
  },
  {
   "cell_type": "code",
   "execution_count": 43,
   "metadata": {
    "collapsed": false
   },
   "outputs": [
    {
     "name": "stdout",
     "output_type": "stream",
     "text": [
      "['102', '12/10 10:30']\n",
      "102\n",
      "2013\n"
     ]
    }
   ],
   "source": [
    "response_date = '102/12/10 10:30' \n",
    "getyear = response_date.split('/', 1)\n",
    "print getyear\n",
    "print getyear[0]\n",
    "#convert year to integer\n",
    "getadyear = int(getyear[0]) + 1911\n",
    "print getadyear"
   ]
  },
  {
   "cell_type": "code",
   "execution_count": 47,
   "metadata": {
    "collapsed": false
   },
   "outputs": [
    {
     "name": "stdout",
     "output_type": "stream",
     "text": [
      "2013-12-10 10:30:00\n"
     ]
    }
   ],
   "source": [
    "getadyearstr =  str(getadyear) + \"/\" +  getyear[1]\n",
    "print datetime.strptime(getadyearstr, \"%Y/%m/%d %H:%M\")"
   ]
  },
  {
   "cell_type": "code",
   "execution_count": null,
   "metadata": {
    "collapsed": true
   },
   "outputs": [],
   "source": []
  }
 ],
 "metadata": {
  "kernelspec": {
   "display_name": "Python 2",
   "language": "python",
   "name": "python2"
  },
  "language_info": {
   "codemirror_mode": {
    "name": "ipython",
    "version": 2
   },
   "file_extension": ".py",
   "mimetype": "text/x-python",
   "name": "python",
   "nbconvert_exporter": "python",
   "pygments_lexer": "ipython2",
   "version": "2.7.9"
  }
 },
 "nbformat": 4,
 "nbformat_minor": 0
}

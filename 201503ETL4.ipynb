{
 "cells": [
  {
   "cell_type": "code",
   "execution_count": 3,
   "metadata": {
    "collapsed": false
   },
   "outputs": [],
   "source": [
    "# -*- coding: utf-8 -*- \n",
    "from bs4 import BeautifulSoup \n",
    "f = open('51081295_102-0400-1-051.txt', 'r') \n",
    "response_text = f.read() \n",
    "soup = BeautifulSoup(response_text) \n",
    "f.close()\n"
   ]
  },
  {
   "cell_type": "code",
   "execution_count": 5,
   "metadata": {
    "collapsed": false
   },
   "outputs": [],
   "source": [
    "soup = BeautifulSoup(''.join(response_text)) \n",
    "tr = soup.findAll('tr') \n",
    "#for row in tr: \n",
    "#    print row.find('th')"
   ]
  },
  {
   "cell_type": "code",
   "execution_count": 6,
   "metadata": {
    "collapsed": false
   },
   "outputs": [
    {
     "name": "stdout",
     "output_type": "stream",
     "text": [
      "3.7.74.37\n",
      "臺灣菸酒股份有限公司隆田酒廠\n",
      "720臺南市官田區隆本里中華路一段335號\n"
     ]
    }
   ],
   "source": [
    "dic = {\"機關代碼\":\"\", \"機關名稱\":\"\", \"機關地址\":\"\"} \n",
    "for row in tr: \n",
    "    th = row.find('th') \n",
    "    if th is not None: \n",
    "        if th.text.encode('utf-8').strip() in dic: \n",
    "            print row.find('td').text.strip()\n"
   ]
  },
  {
   "cell_type": "code",
   "execution_count": 15,
   "metadata": {
    "collapsed": false
   },
   "outputs": [
    {
     "name": "stdout",
     "output_type": "stream",
     "text": [
      "\n",
      "     標的分類\n",
      "     \n",
      "     <財物類>    \n",
      "\n",
      "                            32\n",
      "\n",
      "                            紙漿,紙及紙產品;印刷品及相關的商品\n",
      "    \n",
      "標的分類 \n"
     ]
    }
   ],
   "source": [
    "dic = {\"標的分類\":\"\"} \n",
    "for row in tr: \n",
    "    th = row.find('th') \n",
    "    if th is not None: \n",
    "        if th.text.encode('utf-8').strip() in dic: \n",
    "            dic[th.text.encode('utf-8')] = row.find('td').text.encode('utf-8') \n",
    "for rec in dic: \n",
    "    print rec, dic[rec]\n"
   ]
  },
  {
   "cell_type": "code",
   "execution_count": 9,
   "metadata": {
    "collapsed": false
   },
   "outputs": [
    {
     "name": "stdout",
     "output_type": "stream",
     "text": [
      "\t\t string \n",
      "\t\n",
      "'\\t\\t string \\n\\t'\n"
     ]
    }
   ],
   "source": [
    "a = '\\t\\t string \\n\\t' \n",
    "print a \n",
    "print repr(a)"
   ]
  },
  {
   "cell_type": "code",
   "execution_count": 10,
   "metadata": {
    "collapsed": false
   },
   "outputs": [
    {
     "name": "stdout",
     "output_type": "stream",
     "text": [
      "\t\n",
      "qoo\n",
      "qoo\t\n",
      "qoo\n"
     ]
    }
   ],
   "source": [
    "b = '\\t\\nqoo\\nqoo\\t\\nqoo'\n",
    "print b"
   ]
  },
  {
   "cell_type": "code",
   "execution_count": 11,
   "metadata": {
    "collapsed": false
   },
   "outputs": [
    {
     "name": "stdout",
     "output_type": "stream",
     "text": [
      "'\\t\\nqoo\\nqoo\\t\\nqoo'\n"
     ]
    }
   ],
   "source": [
    "print repr(b)"
   ]
  },
  {
   "cell_type": "code",
   "execution_count": 17,
   "metadata": {
    "collapsed": false
   },
   "outputs": [
    {
     "name": "stdout",
     "output_type": "stream",
     "text": [
      "{'\\n     \\xe6\\xa8\\x99\\xe7\\x9a\\x84\\xe5\\x88\\x86\\xe9\\xa1\\x9e\\n    ': '\\n     <\\xe8\\xb2\\xa1\\xe7\\x89\\xa9\\xe9\\xa1\\x9e>    \\n\\n                            32\\n\\n                            \\xe7\\xb4\\x99\\xe6\\xbc\\xbf,\\xe7\\xb4\\x99\\xe5\\x8f\\x8a\\xe7\\xb4\\x99\\xe7\\x94\\xa2\\xe5\\x93\\x81;\\xe5\\x8d\\xb0\\xe5\\x88\\xb7\\xe5\\x93\\x81\\xe5\\x8f\\x8a\\xe7\\x9b\\xb8\\xe9\\x97\\x9c\\xe7\\x9a\\x84\\xe5\\x95\\x86\\xe5\\x93\\x81\\n    ', '\\xe6\\xa8\\x99\\xe7\\x9a\\x84\\xe5\\x88\\x86\\xe9\\xa1\\x9e': ''}\n",
      "\n",
      "     標的分類\n",
      "     \n",
      "     <財物類>    \n",
      "\n",
      "                            32\n",
      "\n",
      "                            紙漿,紙及紙產品;印刷品及相關的商品\n",
      "    \n",
      "\n",
      "     標的分類\n",
      "     '\\n     <\\xe8\\xb2\\xa1\\xe7\\x89\\xa9\\xe9\\xa1\\x9e>    \\n\\n                            32\\n\\n                            \\xe7\\xb4\\x99\\xe6\\xbc\\xbf,\\xe7\\xb4\\x99\\xe5\\x8f\\x8a\\xe7\\xb4\\x99\\xe7\\x94\\xa2\\xe5\\x93\\x81;\\xe5\\x8d\\xb0\\xe5\\x88\\xb7\\xe5\\x93\\x81\\xe5\\x8f\\x8a\\xe7\\x9b\\xb8\\xe9\\x97\\x9c\\xe7\\x9a\\x84\\xe5\\x95\\x86\\xe5\\x93\\x81\\n    '\n",
      "標的分類 \n",
      "標的分類 ''\n"
     ]
    }
   ],
   "source": [
    "print dic\n",
    "for item in dic:\n",
    "    print item, dic[item]\n",
    "    print item, repr(dic[item])"
   ]
  },
  {
   "cell_type": "code",
   "execution_count": 24,
   "metadata": {
    "collapsed": false
   },
   "outputs": [
    {
     "name": "stdout",
     "output_type": "stream",
     "text": [
      "['123', '555', '111', '99']\n",
      "['123', '555,111,99']\n",
      "['123', '555', '111,99']\n",
      "['http:', '', 'nbviewer.ipython.org', 'github/ywchiu/201503ETL/blob/master/201503ETL.ipynb']\n",
      "nbviewer.ipython.org\n"
     ]
    }
   ],
   "source": [
    "a = '123,555,111,99' \n",
    "print a.split(',') \n",
    "print a.split(',',1) \n",
    "print a.split(',',2) \n",
    "url = \"http://nbviewer.ipython.org/github/ywchiu/201503ETL/blob/master/201503ETL.ipynb\"\n",
    "print url.split('/', 3)\n",
    "\n",
    "# get hostname\n",
    "hostname = url.split('/',3)[2]\n",
    "print hostname"
   ]
  },
  {
   "cell_type": "code",
   "execution_count": 32,
   "metadata": {
    "collapsed": false
   },
   "outputs": [
    {
     "name": "stdout",
     "output_type": "stream",
     "text": [
      "['123', '555', '111', '99']\n",
      "123|555|111|99\n",
      "123@555@111@99\n",
      "12355511199\n",
      "['1', '000', '000']\n",
      "1000000\n",
      "3000000\n"
     ]
    }
   ],
   "source": [
    "a = '123,555,111,99' \n",
    "ary = a.split(',') \n",
    "print ary\n",
    "print '|'.join(ary)\n",
    "print '@'.join(ary)\n",
    "print ''.join(ary)\n",
    "\n",
    "# use split and join to change string currency to integer type\n",
    "money = '1,000,000'\n",
    "print money.split(',')\n",
    "print ''.join(money.split(','))\n",
    "print int(''.join(money.split(','))) + 2000000"
   ]
  },
  {
   "cell_type": "code",
   "execution_count": 35,
   "metadata": {
    "collapsed": false
   },
   "outputs": [
    {
     "name": "stdout",
     "output_type": "stream",
     "text": [
      "{'\\n     \\xe6\\xa8\\x99\\xe7\\x9a\\x84\\xe5\\x88\\x86\\xe9\\xa1\\x9e\\n    ': '\\n     <\\xe8\\xb2\\xa1\\xe7\\x89\\xa9\\xe9\\xa1\\x9e>    \\n\\n                            32\\n\\n                            \\xe7\\xb4\\x99\\xe6\\xbc\\xbf,\\xe7\\xb4\\x99\\xe5\\x8f\\x8a\\xe7\\xb4\\x99\\xe7\\x94\\xa2\\xe5\\x93\\x81;\\xe5\\x8d\\xb0\\xe5\\x88\\xb7\\xe5\\x93\\x81\\xe5\\x8f\\x8a\\xe7\\x9b\\xb8\\xe9\\x97\\x9c\\xe7\\x9a\\x84\\xe5\\x95\\x86\\xe5\\x93\\x81\\n    ', '\\xe6\\xa8\\x99\\xe7\\x9a\\x84\\xe5\\x88\\x86\\xe9\\xa1\\x9e': ''}\n",
      "\n",
      "     標的分類\n",
      "     <財物類>32紙漿,紙及紙產品;印刷品及相關的商品\n",
      "標的分類 \n"
     ]
    }
   ],
   "source": [
    "print dic\n",
    "for item in dic:\n",
    "    print item, ''.join(dic[item].split())\n",
    "    #print item, repr(dic[item])"
   ]
  },
  {
   "cell_type": "code",
   "execution_count": 38,
   "metadata": {
    "collapsed": false
   },
   "outputs": [
    {
     "name": "stdout",
     "output_type": "stream",
     "text": [
      "2015-03-27\n",
      "2014-05-03 14:00:00\n"
     ]
    }
   ],
   "source": [
    "# from time to string\n",
    "from datetime import date,datetime \n",
    "currenttime = datetime.now() \n",
    "print currenttime.strftime(\"%Y-%m-%d\") \n",
    "\n",
    "# from string to time\n",
    "a = '2014-05-03 14:00' \n",
    "print datetime.strptime(a, \"%Y-%m-%d %H:%M\")"
   ]
  },
  {
   "cell_type": "code",
   "execution_count": 43,
   "metadata": {
    "collapsed": false
   },
   "outputs": [
    {
     "name": "stdout",
     "output_type": "stream",
     "text": [
      "['102', '12/10 10:30']\n",
      "102\n",
      "2013\n"
     ]
    }
   ],
   "source": [
    "response_date = '102/12/10 10:30' \n",
    "getyear = response_date.split('/', 1)\n",
    "print getyear\n",
    "print getyear[0]\n",
    "#convert year to integer\n",
    "getadyear = int(getyear[0]) + 1911\n",
    "print getadyear"
   ]
  },
  {
   "cell_type": "code",
   "execution_count": 47,
   "metadata": {
    "collapsed": false
   },
   "outputs": [
    {
     "name": "stdout",
     "output_type": "stream",
     "text": [
      "2013-12-10 10:30:00\n"
     ]
    }
   ],
   "source": [
    "getadyearstr =  str(getadyear) + \"/\" +  getyear[1]\n",
    "print datetime.strptime(getadyearstr, \"%Y/%m/%d %H:%M\")"
   ]
  },
  {
   "cell_type": "code",
   "execution_count": 3,
   "metadata": {
    "collapsed": false
   },
   "outputs": [
    {
     "name": "stdout",
     "output_type": "stream",
     "text": [
      "101\n",
      "10000\n"
     ]
    }
   ],
   "source": [
    "import re \n",
    "m = re.match(r'投標廠商(\\d+)' ,'投標廠商101') \n",
    "print m.group(1)\n",
    "\n",
    "import re \n",
    "m = re.match(r'投標廠商(?P<bidid>\\d+)' ,'投標廠商10000') \n",
    "print m.group(\"bidid\")"
   ]
  },
  {
   "cell_type": "code",
   "execution_count": 6,
   "metadata": {
    "collapsed": false
   },
   "outputs": [
    {
     "name": "stdout",
     "output_type": "stream",
     "text": [
      "{'1': {'1': '1', '11': '11'}, '2': {'2': '2', '22': '22'}}\n"
     ]
    }
   ],
   "source": [
    "a = [\"投標廠商1\", \"1\",\"11\", \"投標廠商2\", \"2\",\"22\"]\n",
    "result = {}\n",
    "current_vender_id = 0\n",
    "for item in a:\n",
    "    m = re.match(\"投標廠商(\\d+)\", item)\n",
    "    if m:\n",
    "        current_vender_id = m.group(1)\n",
    "        result[current_vender_id] = {}\n",
    "    else:\n",
    "        result[current_vender_id][item] = item\n",
    "print result"
   ]
  },
  {
   "cell_type": "code",
   "execution_count": 10,
   "metadata": {
    "collapsed": false
   },
   "outputs": [
    {
     "name": "stdout",
     "output_type": "stream",
     "text": [
      "tenderer_name 誠毅紙器股份有限公司\n",
      "orgnization_type 公司登記\n",
      "tenderer_code 75580992\n",
      "tenderer_num 1\n",
      "awarded 是\n",
      "tenderer_name 龍升印刷有限公司\n",
      "orgnization_type 公司登記\n",
      "tenderer_code 70489398\n",
      "tenderer_num 2\n",
      "awarded 否\n",
      "tenderer_name 龍宏印刷有限公司\n",
      "orgnization_type 公司登記\n",
      "tenderer_code 72205903\n",
      "tenderer_num 3\n",
      "awarded 否\n",
      "tenderer_name 捷采印刷事業股份有限公司\n",
      "orgnization_type 公司登記\n",
      "tenderer_code 23518409\n",
      "tenderer_num 4\n",
      "awarded 否\n",
      "tenderer_name 大暉彩色印刷有限公司\n",
      "orgnization_type 公司登記\n",
      "tenderer_code 22098203\n",
      "tenderer_num 5\n",
      "awarded 否\n"
     ]
    }
   ],
   "source": [
    "# -*- coding: utf-8 -*- \n",
    "from bs4 import BeautifulSoup \n",
    "f = open('51081295_102-0400-1-051.txt', 'r') \n",
    "response_text = f.read() \n",
    "f.close() \n",
    "soup = BeautifulSoup(response_text)\n",
    "\n",
    "tenderer_dic = {\"廠商代碼\":\"tenderer_code\", \"廠商名稱\":\"tenderer_name\", \"是否得標\":\"awarded\", \"組織型態\":\"orgnization_type\"} \n",
    "result_dic = {} \n",
    "\n",
    "tender_table = soup.find('table', { \"class\" : \"table_block tender_table\" }) \n",
    "award_table_tr_3 = tender_table.findAll( 'tr',{'class':'award_table_tr_3'})\n",
    "\n",
    "for tr in award_table_tr_3: \n",
    "    tb =tr.find('table') \n",
    "    grp_num = 0 \n",
    "    if tb is not None: \n",
    "        row = tb.findAll('tr') \n",
    "        for r in row: \n",
    "            th = r.find('th').text \n",
    "            m = re.match(r'投標廠商(\\d+)' ,th.encode('utf-8').strip()) \n",
    "            if m is not None: \n",
    "                grp_num = int(m.group(1)) \n",
    "                result_dic[grp_num] = {'tenderer_num': grp_num} \n",
    "            else: \n",
    "                if th.encode('utf-8').strip() in tenderer_dic: \n",
    "                    result_dic[grp_num][tenderer_dic[th.encode('utf-8').strip()]] = r.find('td').text.strip()\n",
    "#print result_dic\n",
    "\n",
    "for rec in result_dic:\n",
    "    for i in  result_dic[rec]:\n",
    "        print i, result_dic[rec][i]"
   ]
  },
  {
   "cell_type": "code",
   "execution_count": 11,
   "metadata": {
    "collapsed": false
   },
   "outputs": [
    {
     "name": "stdout",
     "output_type": "stream",
     "text": [
      "352111\n",
      "352111\n",
      "352111\n",
      "352111\n",
      "352111\n"
     ]
    }
   ],
   "source": [
    "import re \n",
    "m = re.match( r\"\\$?-?([0-9,]+)\", '352,111元') \n",
    "print ''.join(m.group(1).split(','))\n",
    "\n",
    "a = ['352,111元','$352,111元', '-352,111元', '$-352,111元']\n",
    "for item in a:\n",
    "    m = re.match(r\"\\$?-?([0-9,]+)\", item) \n",
    "    print ''.join(m.group(1).split(','))\n"
   ]
  },
  {
   "cell_type": "code",
   "execution_count": 27,
   "metadata": {
    "collapsed": false
   },
   "outputs": [
    {
     "name": "stdout",
     "output_type": "stream",
     "text": [
      "awarded_tenderer\n",
      "得標廠商\n"
     ]
    },
    {
     "ename": "UnicodeDecodeError",
     "evalue": "'ascii' codec can't decode byte 0xe5 in position 0: ordinal not in range(128)",
     "output_type": "error",
     "traceback": [
      "\u001b[0;31m---------------------------------------------------------------------------\u001b[0m",
      "\u001b[0;31mUnicodeDecodeError\u001b[0m                        Traceback (most recent call last)",
      "\u001b[0;32m<ipython-input-27-90aeab8fe697>\u001b[0m in \u001b[0;36m<module>\u001b[0;34m()\u001b[0m\n\u001b[1;32m      6\u001b[0m \u001b[0;32mfor\u001b[0m \u001b[0mitem\u001b[0m \u001b[0;32min\u001b[0m \u001b[0ma\u001b[0m\u001b[0;34m:\u001b[0m\u001b[0;34m\u001b[0m\u001b[0m\n\u001b[1;32m      7\u001b[0m     \u001b[0;32mprint\u001b[0m \u001b[0mitem\u001b[0m\u001b[0;34m\u001b[0m\u001b[0m\n\u001b[0;32m----> 8\u001b[0;31m     \u001b[0mresult_dic\u001b[0m\u001b[0;34m[\u001b[0m\u001b[0mtender_award_dic\u001b[0m\u001b[0;34m[\u001b[0m\u001b[0mitem\u001b[0m\u001b[0;34m.\u001b[0m\u001b[0mencode\u001b[0m\u001b[0;34m(\u001b[0m\u001b[0;34m'utf-8'\u001b[0m\u001b[0;34m)\u001b[0m\u001b[0;34m]\u001b[0m\u001b[0;34m]\u001b[0m \u001b[0;34m=\u001b[0m \u001b[0;36m3\u001b[0m\u001b[0;34m\u001b[0m\u001b[0m\n\u001b[0m\u001b[1;32m      9\u001b[0m \u001b[0;32mprint\u001b[0m \u001b[0mresult_dic\u001b[0m\u001b[0;34m\u001b[0m\u001b[0m\n\u001b[1;32m     10\u001b[0m \u001b[0;34m\u001b[0m\u001b[0m\n",
      "\u001b[0;31mUnicodeDecodeError\u001b[0m: 'ascii' codec can't decode byte 0xe5 in position 0: ordinal not in range(128)"
     ]
    }
   ],
   "source": [
    "# -*- coding: utf-8 -*-\n",
    "tender_award_dic = {\"得標廠商\":\"awarded_tenderer\", \"預估需求數量\":\"request_number\", \"決標金額\":\"tender_awarding_value\", \"底價金額\":\"floor_price_value\"}\n",
    "a = {\"得標廠商\":'IBM', \"數量\":50}\n",
    "print tender_award_dic[\"得標廠商\"]\n",
    "result_dic = {}\n",
    "for item in a:\n",
    "    print item\n",
    "    result_dic[tender_award_dic[item.encode('utf-8')]] = 3\n",
    "print result_dic\n",
    "\n"
   ]
  },
  {
   "cell_type": "code",
   "execution_count": 28,
   "metadata": {
    "collapsed": false
   },
   "outputs": [
    {
     "name": "stdout",
     "output_type": "stream",
     "text": [
      "request_number 5000\n",
      "awarded_tenderer 誠毅紙器股份有限公司\n"
     ]
    }
   ],
   "source": [
    "award_dic = {}\n",
    "tender_award_dic = {\"得標廠商\":\"awarded_tenderer\", \"預估需求數量\":\"request_number\", \"決標金額\":\"tender_awarding_value\", \"底價金額\":\"floor_price_value\"}\n",
    "award_table_tr_4 = tender_table.findAll( 'tr',{'class':'award_table_tr_4'})\t\t\n",
    "for tr in award_table_tr_4:\n",
    "\ttb =tr.find('table')\n",
    "\tif tb is not None:\n",
    "\t\trow = tb.findAll('tr')\n",
    "\t\titem_num = 0\n",
    "\t\tgrp_num = 0\n",
    "\t\tfor r in row:\n",
    "\t\t\tif r.find('th') is not None:\n",
    "\t\t\t\tth = r.find('th').text\n",
    "\t\t\t\t#print r.find('th').text\n",
    "\t\t\t\tm = re.match(r'第(\\d+)品項' ,th.encode('utf-8').strip())\n",
    "\t\t\t\tm2 = re.match(r'得標廠商(\\d+)' ,th.encode('utf-8').strip())\n",
    "\t\t\t\tif m is not None:\n",
    "\t\t\t\t\titem_num =  int(m.group(1).decode('utf-8'))\n",
    "\t\t\t\t\taward_dic[item_num] = {}\n",
    "\t\t\t\telif m2 is not None:\n",
    "\t\t\t\t\tgrp_num =  int(m2.group(1).decode('utf-8'))\n",
    "\t\t\t\t\taward_dic[item_num][grp_num] = {}\t\t\t\n",
    "\t\t\t\telse:\n",
    "\t\t\t\t\tif th.encode('utf-8').strip() in tender_award_dic:\n",
    "\t\t\t\t\t\t#print th.encode('utf-8').strip().decode('utf-8')\n",
    "\t\t\t\t\t\tif th.encode('utf-8').strip() == \"決標金額\" or th.encode('utf-8').strip() == \"底價金額\":\n",
    "\t\t\t\t\t\t\tm = re.match( r\"\\$?-?([0-9,]+)\", \"\".join( r.find('td').text.split()))\n",
    "\t\t\t\t\t\t\taward_dic[item_num][grp_num][tender_award_dic[th.encode('utf-8').strip()]] =  int(''.join(m.group(0).split(',')))\t\t\t\t\t\t\t\n",
    "\t\t\t\t\t\telse:\n",
    "\t\t\t\t\t\t\taward_dic[item_num][grp_num][tender_award_dic[th.encode('utf-8').strip()]] = r.find('td').text.strip()\n",
    "#print award_dic\n",
    "\n",
    "for rec in award_dic[1][1]:\n",
    "    print rec, award_dic[1][1][rec]"
   ]
  },
  {
   "cell_type": "code",
   "execution_count": null,
   "metadata": {
    "collapsed": true
   },
   "outputs": [],
   "source": []
  }
 ],
 "metadata": {
  "kernelspec": {
   "display_name": "Python 2",
   "language": "python",
   "name": "python2"
  },
  "language_info": {
   "codemirror_mode": {
    "name": "ipython",
    "version": 2
   },
   "file_extension": ".py",
   "mimetype": "text/x-python",
   "name": "python",
   "nbconvert_exporter": "python",
   "pygments_lexer": "ipython2",
   "version": "2.7.6"
  }
 },
 "nbformat": 4,
 "nbformat_minor": 0
}
